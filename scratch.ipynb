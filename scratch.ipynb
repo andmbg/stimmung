{
 "cells": [
  {
   "cell_type": "code",
   "execution_count": 1,
   "metadata": {},
   "outputs": [],
   "source": [
    "import sys\n",
    "import pandas as pd\n",
    "import plotly.express as px\n",
    "import plotly.graph_objects as go\n",
    "from plotly.subplots import make_subplots\n",
    "\n",
    "from bundestag.src.data.ensure_data import get_votes"
   ]
  },
  {
   "cell_type": "code",
   "execution_count": 2,
   "metadata": {},
   "outputs": [
    {
     "data": {
      "text/html": [
       "<div>\n",
       "<style scoped>\n",
       "    .dataframe tbody tr th:only-of-type {\n",
       "        vertical-align: middle;\n",
       "    }\n",
       "\n",
       "    .dataframe tbody tr th {\n",
       "        vertical-align: top;\n",
       "    }\n",
       "\n",
       "    .dataframe thead th {\n",
       "        text-align: right;\n",
       "    }\n",
       "</style>\n",
       "<table border=\"1\" class=\"dataframe\">\n",
       "  <thead>\n",
       "    <tr style=\"text-align: right;\">\n",
       "      <th></th>\n",
       "      <th>fraction</th>\n",
       "      <th>poll_id</th>\n",
       "      <th>name</th>\n",
       "      <th>index</th>\n",
       "      <th>vote_id</th>\n",
       "      <th>vote</th>\n",
       "      <th>fid_legislatur</th>\n",
       "      <th>fid_topic</th>\n",
       "      <th>label</th>\n",
       "      <th>date</th>\n",
       "      <th>parliament_vote</th>\n",
       "      <th>n_votes</th>\n",
       "      <th>sum_yes</th>\n",
       "      <th>sum_no</th>\n",
       "      <th>sum_abs</th>\n",
       "      <th>party_line</th>\n",
       "      <th>on_party_line</th>\n",
       "      <th>n_dissent</th>\n",
       "      <th>unanimity</th>\n",
       "      <th>y</th>\n",
       "    </tr>\n",
       "  </thead>\n",
       "  <tbody>\n",
       "    <tr>\n",
       "      <th>0</th>\n",
       "      <td>AfD</td>\n",
       "      <td>4370</td>\n",
       "      <td>Kay-Uwe Ziegler</td>\n",
       "      <td>103310</td>\n",
       "      <td>425921</td>\n",
       "      <td>no</td>\n",
       "      <td>132</td>\n",
       "      <td>28</td>\n",
       "      <td>Änderung des Infektionsschutzgesetzes (Ende de...</td>\n",
       "      <td>2021-11-18</td>\n",
       "      <td>yes</td>\n",
       "      <td>736</td>\n",
       "      <td>398</td>\n",
       "      <td>254</td>\n",
       "      <td>0</td>\n",
       "      <td>no</td>\n",
       "      <td>True</td>\n",
       "      <td>3</td>\n",
       "      <td>69</td>\n",
       "      <td>106</td>\n",
       "    </tr>\n",
       "    <tr>\n",
       "      <th>1</th>\n",
       "      <td>AfD</td>\n",
       "      <td>4370</td>\n",
       "      <td>Joachim Wundrak</td>\n",
       "      <td>103311</td>\n",
       "      <td>425920</td>\n",
       "      <td>no</td>\n",
       "      <td>132</td>\n",
       "      <td>28</td>\n",
       "      <td>Änderung des Infektionsschutzgesetzes (Ende de...</td>\n",
       "      <td>2021-11-18</td>\n",
       "      <td>yes</td>\n",
       "      <td>736</td>\n",
       "      <td>398</td>\n",
       "      <td>254</td>\n",
       "      <td>0</td>\n",
       "      <td>no</td>\n",
       "      <td>True</td>\n",
       "      <td>7</td>\n",
       "      <td>69</td>\n",
       "      <td>106</td>\n",
       "    </tr>\n",
       "    <tr>\n",
       "      <th>2</th>\n",
       "      <td>AfD</td>\n",
       "      <td>4370</td>\n",
       "      <td>Christian Wirth</td>\n",
       "      <td>103313</td>\n",
       "      <td>425918</td>\n",
       "      <td>no</td>\n",
       "      <td>132</td>\n",
       "      <td>28</td>\n",
       "      <td>Änderung des Infektionsschutzgesetzes (Ende de...</td>\n",
       "      <td>2021-11-18</td>\n",
       "      <td>yes</td>\n",
       "      <td>736</td>\n",
       "      <td>398</td>\n",
       "      <td>254</td>\n",
       "      <td>0</td>\n",
       "      <td>no</td>\n",
       "      <td>True</td>\n",
       "      <td>2</td>\n",
       "      <td>69</td>\n",
       "      <td>106</td>\n",
       "    </tr>\n",
       "    <tr>\n",
       "      <th>3</th>\n",
       "      <td>AfD</td>\n",
       "      <td>4370</td>\n",
       "      <td>Wolfgang Wiehle</td>\n",
       "      <td>103314</td>\n",
       "      <td>425917</td>\n",
       "      <td>no</td>\n",
       "      <td>132</td>\n",
       "      <td>28</td>\n",
       "      <td>Änderung des Infektionsschutzgesetzes (Ende de...</td>\n",
       "      <td>2021-11-18</td>\n",
       "      <td>yes</td>\n",
       "      <td>736</td>\n",
       "      <td>398</td>\n",
       "      <td>254</td>\n",
       "      <td>0</td>\n",
       "      <td>no</td>\n",
       "      <td>True</td>\n",
       "      <td>0</td>\n",
       "      <td>69</td>\n",
       "      <td>106</td>\n",
       "    </tr>\n",
       "    <tr>\n",
       "      <th>4</th>\n",
       "      <td>AfD</td>\n",
       "      <td>4370</td>\n",
       "      <td>Harald Weyel</td>\n",
       "      <td>103315</td>\n",
       "      <td>425916</td>\n",
       "      <td>no</td>\n",
       "      <td>132</td>\n",
       "      <td>28</td>\n",
       "      <td>Änderung des Infektionsschutzgesetzes (Ende de...</td>\n",
       "      <td>2021-11-18</td>\n",
       "      <td>yes</td>\n",
       "      <td>736</td>\n",
       "      <td>398</td>\n",
       "      <td>254</td>\n",
       "      <td>0</td>\n",
       "      <td>no</td>\n",
       "      <td>True</td>\n",
       "      <td>4</td>\n",
       "      <td>69</td>\n",
       "      <td>106</td>\n",
       "    </tr>\n",
       "    <tr>\n",
       "      <th>...</th>\n",
       "      <td>...</td>\n",
       "      <td>...</td>\n",
       "      <td>...</td>\n",
       "      <td>...</td>\n",
       "      <td>...</td>\n",
       "      <td>...</td>\n",
       "      <td>...</td>\n",
       "      <td>...</td>\n",
       "      <td>...</td>\n",
       "      <td>...</td>\n",
       "      <td>...</td>\n",
       "      <td>...</td>\n",
       "      <td>...</td>\n",
       "      <td>...</td>\n",
       "      <td>...</td>\n",
       "      <td>...</td>\n",
       "      <td>...</td>\n",
       "      <td>...</td>\n",
       "      <td>...</td>\n",
       "      <td>...</td>\n",
       "    </tr>\n",
       "    <tr>\n",
       "      <th>92130</th>\n",
       "      <td>SPD</td>\n",
       "      <td>5593</td>\n",
       "      <td>Heike Baehrens</td>\n",
       "      <td>719</td>\n",
       "      <td>574943</td>\n",
       "      <td>no</td>\n",
       "      <td>132</td>\n",
       "      <td>11</td>\n",
       "      <td>Zweite Beratung zur Aufhebung des Lieferketten...</td>\n",
       "      <td>2024-06-13</td>\n",
       "      <td>no</td>\n",
       "      <td>733</td>\n",
       "      <td>250</td>\n",
       "      <td>401</td>\n",
       "      <td>0</td>\n",
       "      <td>no</td>\n",
       "      <td>True</td>\n",
       "      <td>2</td>\n",
       "      <td>186</td>\n",
       "      <td>66</td>\n",
       "    </tr>\n",
       "    <tr>\n",
       "      <th>92131</th>\n",
       "      <td>SPD</td>\n",
       "      <td>5593</td>\n",
       "      <td>Johannes Arlt</td>\n",
       "      <td>720</td>\n",
       "      <td>574942</td>\n",
       "      <td>no</td>\n",
       "      <td>132</td>\n",
       "      <td>11</td>\n",
       "      <td>Zweite Beratung zur Aufhebung des Lieferketten...</td>\n",
       "      <td>2024-06-13</td>\n",
       "      <td>no</td>\n",
       "      <td>733</td>\n",
       "      <td>250</td>\n",
       "      <td>401</td>\n",
       "      <td>0</td>\n",
       "      <td>no</td>\n",
       "      <td>True</td>\n",
       "      <td>1</td>\n",
       "      <td>186</td>\n",
       "      <td>66</td>\n",
       "    </tr>\n",
       "    <tr>\n",
       "      <th>92132</th>\n",
       "      <td>SPD</td>\n",
       "      <td>5593</td>\n",
       "      <td>Niels Annen</td>\n",
       "      <td>721</td>\n",
       "      <td>574941</td>\n",
       "      <td>no</td>\n",
       "      <td>132</td>\n",
       "      <td>11</td>\n",
       "      <td>Zweite Beratung zur Aufhebung des Lieferketten...</td>\n",
       "      <td>2024-06-13</td>\n",
       "      <td>no</td>\n",
       "      <td>733</td>\n",
       "      <td>250</td>\n",
       "      <td>401</td>\n",
       "      <td>0</td>\n",
       "      <td>no</td>\n",
       "      <td>True</td>\n",
       "      <td>2</td>\n",
       "      <td>186</td>\n",
       "      <td>66</td>\n",
       "    </tr>\n",
       "    <tr>\n",
       "      <th>92133</th>\n",
       "      <td>SPD</td>\n",
       "      <td>5593</td>\n",
       "      <td>Dagmar Andres</td>\n",
       "      <td>722</td>\n",
       "      <td>574940</td>\n",
       "      <td>no</td>\n",
       "      <td>132</td>\n",
       "      <td>11</td>\n",
       "      <td>Zweite Beratung zur Aufhebung des Lieferketten...</td>\n",
       "      <td>2024-06-13</td>\n",
       "      <td>no</td>\n",
       "      <td>733</td>\n",
       "      <td>250</td>\n",
       "      <td>401</td>\n",
       "      <td>0</td>\n",
       "      <td>no</td>\n",
       "      <td>True</td>\n",
       "      <td>2</td>\n",
       "      <td>186</td>\n",
       "      <td>66</td>\n",
       "    </tr>\n",
       "    <tr>\n",
       "      <th>92134</th>\n",
       "      <td>SPD</td>\n",
       "      <td>5593</td>\n",
       "      <td>Reem Alabali-Radovan</td>\n",
       "      <td>723</td>\n",
       "      <td>574939</td>\n",
       "      <td>no</td>\n",
       "      <td>132</td>\n",
       "      <td>11</td>\n",
       "      <td>Zweite Beratung zur Aufhebung des Lieferketten...</td>\n",
       "      <td>2024-06-13</td>\n",
       "      <td>no</td>\n",
       "      <td>733</td>\n",
       "      <td>250</td>\n",
       "      <td>401</td>\n",
       "      <td>0</td>\n",
       "      <td>no</td>\n",
       "      <td>True</td>\n",
       "      <td>2</td>\n",
       "      <td>186</td>\n",
       "      <td>66</td>\n",
       "    </tr>\n",
       "  </tbody>\n",
       "</table>\n",
       "<p>92135 rows × 20 columns</p>\n",
       "</div>"
      ],
      "text/plain": [
       "      fraction poll_id                  name   index  vote_id vote  \\\n",
       "0          AfD    4370       Kay-Uwe Ziegler  103310   425921   no   \n",
       "1          AfD    4370       Joachim Wundrak  103311   425920   no   \n",
       "2          AfD    4370       Christian Wirth  103313   425918   no   \n",
       "3          AfD    4370       Wolfgang Wiehle  103314   425917   no   \n",
       "4          AfD    4370          Harald Weyel  103315   425916   no   \n",
       "...        ...     ...                   ...     ...      ...  ...   \n",
       "92130      SPD    5593        Heike Baehrens     719   574943   no   \n",
       "92131      SPD    5593         Johannes Arlt     720   574942   no   \n",
       "92132      SPD    5593           Niels Annen     721   574941   no   \n",
       "92133      SPD    5593         Dagmar Andres     722   574940   no   \n",
       "92134      SPD    5593  Reem Alabali-Radovan     723   574939   no   \n",
       "\n",
       "       fid_legislatur fid_topic  \\\n",
       "0                 132        28   \n",
       "1                 132        28   \n",
       "2                 132        28   \n",
       "3                 132        28   \n",
       "4                 132        28   \n",
       "...               ...       ...   \n",
       "92130             132        11   \n",
       "92131             132        11   \n",
       "92132             132        11   \n",
       "92133             132        11   \n",
       "92134             132        11   \n",
       "\n",
       "                                                   label        date  \\\n",
       "0      Änderung des Infektionsschutzgesetzes (Ende de...  2021-11-18   \n",
       "1      Änderung des Infektionsschutzgesetzes (Ende de...  2021-11-18   \n",
       "2      Änderung des Infektionsschutzgesetzes (Ende de...  2021-11-18   \n",
       "3      Änderung des Infektionsschutzgesetzes (Ende de...  2021-11-18   \n",
       "4      Änderung des Infektionsschutzgesetzes (Ende de...  2021-11-18   \n",
       "...                                                  ...         ...   \n",
       "92130  Zweite Beratung zur Aufhebung des Lieferketten...  2024-06-13   \n",
       "92131  Zweite Beratung zur Aufhebung des Lieferketten...  2024-06-13   \n",
       "92132  Zweite Beratung zur Aufhebung des Lieferketten...  2024-06-13   \n",
       "92133  Zweite Beratung zur Aufhebung des Lieferketten...  2024-06-13   \n",
       "92134  Zweite Beratung zur Aufhebung des Lieferketten...  2024-06-13   \n",
       "\n",
       "      parliament_vote  n_votes  sum_yes  sum_no  sum_abs party_line  \\\n",
       "0                 yes      736      398     254        0         no   \n",
       "1                 yes      736      398     254        0         no   \n",
       "2                 yes      736      398     254        0         no   \n",
       "3                 yes      736      398     254        0         no   \n",
       "4                 yes      736      398     254        0         no   \n",
       "...               ...      ...      ...     ...      ...        ...   \n",
       "92130              no      733      250     401        0         no   \n",
       "92131              no      733      250     401        0         no   \n",
       "92132              no      733      250     401        0         no   \n",
       "92133              no      733      250     401        0         no   \n",
       "92134              no      733      250     401        0         no   \n",
       "\n",
       "       on_party_line  n_dissent  unanimity    y  \n",
       "0               True          3         69  106  \n",
       "1               True          7         69  106  \n",
       "2               True          2         69  106  \n",
       "3               True          0         69  106  \n",
       "4               True          4         69  106  \n",
       "...              ...        ...        ...  ...  \n",
       "92130           True          2        186   66  \n",
       "92131           True          1        186   66  \n",
       "92132           True          2        186   66  \n",
       "92133           True          2        186   66  \n",
       "92134           True          2        186   66  \n",
       "\n",
       "[92135 rows x 20 columns]"
      ]
     },
     "execution_count": 2,
     "metadata": {},
     "output_type": "execute_result"
    }
   ],
   "source": [
    "votes = get_votes()\n",
    "votes"
   ]
  },
  {
   "cell_type": "code",
   "execution_count": 35,
   "metadata": {},
   "outputs": [],
   "source": [
    "vote_map = {\n",
    "    \"yes\": \"#00aa00\",\n",
    "    \"no\": \"#aa0000\",\n",
    "    \"abstain\": \"#000000\",\n",
    "}\n",
    "\n",
    "fr = \"CDU\"\n",
    "votes_plot = votes.loc[votes.fraction.eq(fr)]\n",
    "\n",
    "# ranges and panel sizes:\n",
    "panel1_xmin = votes_plot.unanimity.max()\n",
    "panel3_xmax = votes_plot.groupby(\"y\")[\"on_party_line\"].apply(lambda x: sum(x == False)).max()\n",
    "xspan = panel1_xmin + panel3_xmax\n",
    "# poll result should be 5 % width of the plot:\n",
    "panel2_width = 1/50 * xspan\n",
    "height = votes_plot.y.max()"
   ]
  },
  {
   "cell_type": "code",
   "execution_count": 39,
   "metadata": {},
   "outputs": [
    {
     "data": {
      "application/vnd.plotly.v1+json": {
       "config": {
        "plotlyServerURL": "https://plot.ly"
       },
       "data": [
        {
         "customdata": [
          [
           "Verlängerung des Bundeswehreinsatzes vor der libanesischen Küste (UNIFIL)",
           "2023-06-23"
          ],
          [
           "Beteiligung der Bundeswehr an der EU-geführten Sicherheitsoperation in Bosnien und Herzegowina (EUFOR ALTHEA)",
           "2023-06-23"
          ],
          [
           "Einsatz der Bundeswehr im Roten Meer ",
           "2024-02-23"
          ],
          [
           "Verlängerung des Bundeswehreinsatzes im Kosovo (KFOR)",
           "2023-05-26"
          ],
          [
           "Stärkung und Reform der Weltgesundheitsorganisation",
           "2023-05-12"
          ],
          [
           "Erweiterter Tätigkeitsbereich der Europäischen Bank für Wiederaufbau und Entwicklung",
           "2023-12-01"
          ],
          [
           "Förderung der geschäftsmäßigen Sterbehilfe grundsätzlich verbieten",
           "2023-07-06"
          ],
          [
           "Stiftungsfinanzierungsgesetz",
           "2023-11-10"
          ],
          [
           "Keine rückwirkende Besteuerung der Energiepreispauschale",
           "2023-06-23"
          ],
          [
           "Änderung des Parteiengesetzes",
           "2023-12-15"
          ],
          [
           "Verlängerung der Bundeswehrbeteiligung an NATO-Operation SEA GUARDIAN im Mittelmeer (2022/23)",
           "2022-03-18"
          ],
          [
           "Änderung des Bundeszentralregistergesetzes",
           "2022-10-20"
          ],
          [
           "Verlängerung des Bundeswehreinsatzes im Mittelmeer (Operation EUNAVFOR MED IRINI)",
           "2022-04-29"
          ],
          [
           "Beteiligung der Bundeswehr an der EU-geführten Sicherheitsoperation in Bosnien und Herzegowina (EUFOR ALTHEA)",
           "2022-07-08"
          ],
          [
           "Beteiligung der Bundeswehr in Niger (EUMPM Niger)",
           "2023-04-28"
          ],
          [
           "Verlängerung des Bundeswehreinsatzes im Südsudan (UNMISS 2022/23)",
           "2022-03-18"
          ],
          [
           "Vor­gezogener Braunkohle­ausstieg im Rheinischen Revier",
           "2022-12-01"
          ],
          [
           "Verlängerung des Bundeswehreinsatzes im Irak (2023)",
           "2022-10-21"
          ],
          [
           "Keine Ab­schaf­fung des Solidaritäts­zuschlags",
           "2024-06-05"
          ],
          [
           "CDU/CSU-Antrag: Förderung der energie­effizienten Gebäude­sanierung ",
           "2022-05-20"
          ],
          [
           "Verlängerung des Bundeswehreinsatzes im Kosovo (KFOR 2022/2023)",
           "2022-07-08"
          ],
          [
           "Wiedereinsetzung des Stabilitäts- und Wachstumspaktes auf EU-Ebene",
           "2022-09-30"
          ],
          [
           "Verlängerung des Bundeswehreinsatzes in Mali (MINUSMA 2022/2023)",
           "2022-05-20"
          ],
          [
           "Fortsetzung des Bundeswehreinsatzes im Sahel mit Schwerpunkt Niger (EUTM Mali 2022/2023)",
           "2022-05-20"
          ],
          [
           "Neuregelung der deutschen Asyl- und Flüchtlingspolitik",
           "2023-04-28"
          ],
          [
           "Untersuchungsausschuss \"Bekämpfung des Corona-Virus\" nicht einsetzen",
           "2023-04-19"
          ],
          [
           "Kein Stopp der EU-Gebäuderichtlinie (Beschlussempfehlung)",
           "2023-11-30"
          ],
          [
           "Forderung nach Steuervergünstigung für Agrardiesel ablehnen",
           "2024-03-20"
          ],
          [
           "CDU/CSU-Antrag: Impfvorsorgegesetz",
           "2022-04-07"
          ],
          [
           "Verbot von Strom- und Gassperren",
           "2022-10-13"
          ],
          [
           "Impfpflicht für bestimmte Berufsgruppen und weitere Änderungen im Infektionsschutzgesetz",
           "2021-12-10"
          ],
          [
           "CDU/CSU-Antrag: Sicherung einer bezahlbaren und souveränen Energieversorgung",
           "2022-03-17"
          ],
          [
           "Sondervermögen Bundeswehr",
           "2022-06-03"
          ],
          [
           "CDU/CSU-Antrag: Sicherung der Nahrungsmittelversorgung der Ukraine",
           "2022-05-19"
          ],
          [
           "Grundgesetzänderung (Artikel 87a)",
           "2022-06-03"
          ],
          [
           "Moldau und Georgien als sichere Herkunftsstaaten (Entschließungsantrag)",
           "2023-11-16"
          ],
          [
           "Beteiligung deutscher Streitkräfte an UNIFIL",
           "2022-06-23"
          ],
          [
           "Einigungsvorschlag zum Bürgergeld-Gesetz",
           "2022-11-25"
          ],
          [
           "Ablehnung des Elf-Punkte-Plans zum Schutz der Grenzen (Beschlussempfehlung)",
           "2023-09-28"
          ],
          [
           "Lieferung von TAURUS-Marschflugkörpern an die Ukraine",
           "2024-01-17"
          ],
          [
           "Fortsetzung des Einsatzes der Bundeswehr im Irak",
           "2022-01-28"
          ],
          [
           "Fortsetzung des Bundeswehreinsatzes im Irak",
           "2023-10-18"
          ],
          [
           "CDU/CSU-Antrag: Verlängerung der epidemischen Lage nationaler Tragweite",
           "2021-11-18"
          ],
          [
           "Digitale Verkündung von Bundesgesetzen und Verordnungen",
           "2022-12-01"
          ],
          [
           "Änderungsantrag zum Energieeffizienzgesetz ",
           "2023-09-21"
          ],
          [
           "Keine Ablehnung des WHO-Pandemievertrags",
           "2024-05-16"
          ],
          [
           "Entschließungsantrag gegen Abschöpfung von Krisengewinnen",
           "2022-09-22"
          ],
          [
           "Umsatzsteuergesetz",
           "2023-09-21"
          ],
          [
           "Keine Streichung von Erbschaftssteuervergünstigungen (Beschlussempfehlung)",
           "2023-11-30"
          ],
          [
           "Veränderungen in der deutschen Außen- und Sicherheitspolitik erforderlich",
           "2024-02-22"
          ],
          [
           "Verlängerung des Bundeswehreinsatzes im Mittelmeer (EUNAVFOR MED IRINI)",
           "2024-04-25"
          ],
          [
           "Laufzeitverlängerung der Kernkraftwerke ",
           "2023-03-31"
          ],
          [
           "Bundeswehrbeschaffungsbeschleunigungsgesetz (Entschließungsantrag CDU/CSU-Fraktion)",
           "2022-07-07"
          ],
          [
           "Bereithaltung von Ersatzkraftwerken (Änderungsantrag CDU/CSU-Fraktion)",
           "2022-07-07"
          ],
          [
           "Bundeswehreinsatz im Mittelmeer verlängern (EUNAVFOR MED IRINI)",
           "2023-04-26"
          ],
          [
           "Grenzüberschreitendes Entsenderecht im Straßenverkehr ",
           "2023-06-15"
          ],
          [
           "Verlängerung des Bundes­wehreinsatzes in Südsudan (UNMISS)",
           "2024-03-22"
          ],
          [
           "Verlängerung des Bundeswehreinsatzes SEA GUARDIAN im Mittelmeer",
           "2024-03-22"
          ],
          [
           "Zweite Beratung zur Aufhebung des Lieferkettengesetzes ohne Beratung in den Ausschüssen",
           "2024-06-13"
          ],
          [
           "Änderung des Windenergie-auf-See-Gesetzes",
           "2022-07-07"
          ],
          [
           "Aufhebung der Gaspreisanpassungsverordnung (Entschließungsantrag)",
           "2022-09-22"
          ],
          [
           "LINKEN-Antrag ablehnen: Europäische Asylrechtsreform durchsetzen",
           "2023-06-15"
          ],
          [
           "Bundeswehreinsatz in Mali (MINUSMA) beenden",
           "2023-07-06"
          ],
          [
           "Ablehnung eines Antrags zum Verbot des Vereins \"Muslim Interaktiv\"",
           "2024-06-13"
          ],
          [
           "Friedensinitiative für die Ukraine und Russland (Beschlussempfehlung zur Ablehnung des Antrags)",
           "2024-01-18"
          ],
          [
           "Entlastung der Landwirtschaft",
           "2024-01-18"
          ],
          [
           "Ratifizierung des CETA-Abkommens",
           "2022-12-01"
          ],
          [
           "Bewaffneter Streitkräfteeinsatz im Sudan",
           "2023-04-26"
          ],
          [
           "Umfassende Unterstützung für die Ukraine ",
           "2022-04-28"
          ],
          [
           "Konsequenzen aus der tödlichen Messerattacke in Mannheim",
           "2024-06-13"
          ],
          [
           "Suizidprävention stärken",
           "2023-07-06"
          ],
          [
           "Verlängerung des Bundeswehreinsatzes SEA GUARDIAN im Mittelmeer",
           "2023-03-29"
          ],
          [
           "2-Prozent-Hürde zur Europawahl",
           "2023-06-15"
          ],
          [
           "Inflationsausgleichsgesetz",
           "2022-11-10"
          ],
          [
           "Verlängerung des Bundeswehreinsatzes in Südsudan (UNMISS)",
           "2023-03-30"
          ]
         ],
         "hovertemplate": "%{customdata[0]}<extra></extra>",
         "marker": {
          "color": "#00aa00",
          "line": {
           "width": 0
          }
         },
         "orientation": "h",
         "showlegend": false,
         "type": "bar",
         "x": [
          -132,
          -139,
          -142,
          -145,
          -146,
          -146,
          -150,
          -150,
          -151,
          -152,
          -153,
          -155,
          -160,
          -160,
          -160,
          -161,
          -162,
          -165,
          -165,
          -166,
          -166,
          -167,
          -169,
          -169,
          -169,
          -170,
          -170,
          -171,
          -172,
          -172,
          -173,
          -173,
          -173,
          -175,
          -175,
          -175,
          -176,
          -176,
          -176,
          -176,
          -177,
          -177,
          -178,
          -178,
          -178,
          -178,
          -179,
          -179,
          -179,
          -179,
          -179,
          -180,
          -181,
          -181,
          -181,
          -181,
          -181,
          -181,
          -181,
          -182,
          -182,
          -182,
          -182,
          -182,
          -183,
          -183,
          -184,
          -184,
          -185,
          -185,
          -186,
          -187,
          -187,
          -188,
          -188
         ],
         "xaxis": "x",
         "y": [
          4,
          5,
          6,
          8,
          9,
          10,
          12,
          13,
          14,
          15,
          16,
          17,
          20,
          21,
          22,
          23,
          24,
          28,
          29,
          30,
          31,
          32,
          37,
          38,
          40,
          41,
          42,
          46,
          48,
          49,
          54,
          55,
          57,
          63,
          66,
          69,
          72,
          73,
          74,
          75,
          76,
          79,
          81,
          83,
          84,
          85,
          86,
          88,
          89,
          90,
          91,
          92,
          95,
          96,
          98,
          99,
          100,
          101,
          102,
          105,
          106,
          109,
          110,
          112,
          115,
          116,
          121,
          123,
          125,
          126,
          133,
          135,
          137,
          140,
          141
         ],
         "yaxis": "y"
        },
        {
         "customdata": [
          [
           "Änderung des Straßenverkehrsgesetzes",
           "2023-10-20"
          ],
          [
           "Videokonferenzen in der Zivil- und Fachgerichtsbarkeit",
           "2023-11-17"
          ],
          [
           "Änderung des Erneuerbare-Energien-Gesetzes",
           "2023-12-15"
          ],
          [
           "Änderung des Energiewirtschaftsgesetzes",
           "2024-04-12"
          ],
          [
           "Änderung des Atomgesetzes",
           "2023-11-10"
          ],
          [
           "Chancen-Aufenthaltsrecht",
           "2022-12-02"
          ],
          [
           "Jahressteuergesetz 2022",
           "2022-12-02"
          ],
          [
           "Letztmalige Verlängerung des Bundeswehreinsatzes in Mali (MINUSMA)",
           "2023-05-26"
          ],
          [
           "Verbesserung des Klimaschutzes beim Immissionsschutz",
           "2024-06-06"
          ],
          [
           "Weiterbetrieb von Kernkraftwerken (Änderungsantrag)",
           "2022-09-22"
          ],
          [
           "Modernisierung des Staatsangehörigkeitsrechts",
           "2024-01-19"
          ],
          [
           "Cannabisgesetz",
           "2024-02-23"
          ],
          [
           "Fachkräfteeinwanderung",
           "2023-06-23"
          ],
          [
           "Änderung des Infektionsschutzgesetzes (Ende weitreichender Corona-Maßnahmen)",
           "2022-03-18"
          ],
          [
           "Entschließungsantrag DIE LINKE: Finanz­reform der gesetzlichen Krankenversicherung",
           "2022-10-20"
          ],
          [
           "Impfbereitschaft ohne allgemeine Impfpflicht erhöhen",
           "2022-04-07"
          ],
          [
           "Änderung des Energiesicherungsgesetzes",
           "2023-04-20"
          ],
          [
           "Gebäudeenergiegesetz",
           "2023-09-08"
          ],
          [
           "Selbstbestimmungsgesetz",
           "2024-04-12"
          ],
          [
           "Abwehrschirm gegen gestiegene Strom- und Gaspreise",
           "2022-10-21"
          ],
          [
           "Reform des Nachrichtendienstrechts",
           "2023-11-16"
          ],
          [
           "Nachtragshaushaltsgesetz 2023",
           "2023-12-15"
          ],
          [
           "Ablehnung eines Antrags zur Bekämpfung der Gefahr durch den politischen Islam ",
           "2024-06-06"
          ],
          [
           "AfD-Antrag: Einrichtungsbezogene Impfpflicht abschaffen",
           "2022-05-19"
          ],
          [
           "Pflegereform",
           "2023-05-26"
          ],
          [
           "Vermittlungs­ergebnis zum Wachstums­chancengesetz",
           "2024-02-23"
          ],
          [
           "Rücktritt von Bundesinnenministerin Nancy Faeser",
           "2023-09-20"
          ],
          [
           "Artikel 115 II GG - Aussetzen der Schuldenbremse für 2023",
           "2023-12-15"
          ],
          [
           " Bundeshaushaltsplan für das Haushaltsjahr 2022 (Haushaltsgesetz)",
           "2022-06-03"
          ],
          [
           "AfD-Antrag zum \"Sondervermögen Bundeswehr\"",
           "2022-06-03"
          ],
          [
           "Weiterbetrieb deutscher Atomkraftwerke bis zum 15. April 2023",
           "2022-11-11"
          ],
          [
           "Änderung des Infektionsschutzgesetzes (Triage-Entscheidungen)",
           "2022-11-10"
          ],
          [
           "Impfpflicht ab 60",
           "2022-04-07"
          ],
          [
           "AfD-Antrag: Keine Impfpflicht gegen COVID-19",
           "2022-04-07"
          ],
          [
           "Schuldentilgung der Haushaltsjahre 2020-2022",
           "2022-06-03"
          ],
          [
           "Haushaltsgesetz 2024",
           "2024-02-02"
          ],
          [
           "Beschlussempfehlung gegen Entschließungsantrag zu Waffenlieferungen an die Ukraine",
           "2022-09-28"
          ],
          [
           "Der Bundeshaushalt 2023",
           "2022-11-25"
          ],
          [
           "Suizidhilfegesetz",
           "2023-07-06"
          ],
          [
           "Änderung des Bundeswahlgesetzes ",
           "2024-02-01"
          ],
          [
           "Wahlwiederholung der Bundestagswahl in 431 Berliner Wahlbezirken",
           "2022-11-11"
          ],
          [
           "DIE LINKE-Antrag: Prämie für Beschäftigte im Gesundheits- und Pflegesystem",
           "2021-12-10"
          ],
          [
           "Schnellerer Ausbau erneuerbarer Energien",
           "2022-07-07"
          ],
          [
           "Einsetzung des Bürgerrats \"Ernährung im Wandel\"",
           "2023-05-10"
          ],
          [
           "Keine sofortige Einleitung der Rückführungsoffensive ",
           "2023-05-11"
          ],
          [
           "Militärische Unterstützung für die Ukraine",
           "2024-02-22"
          ],
          [
           "Etat des Bundeskanzlers und des Bundeskanzleramtes 2022",
           "2022-06-01"
          ],
          [
           "Ausbau von Windenergieanlagen an Land erhöhen und beschleunigen",
           "2022-07-07"
          ],
          [
           "Keine Lieferung von Taurus-Marschflugkörpern an die Ukraine (Beschlussempfehlung)",
           "2024-03-14"
          ],
          [
           "Änderung des Infektionsschutzgesetzes (Ende der epidemischen Lage)",
           "2021-11-18"
          ],
          [
           "Zweiter Nachtrag zum Bundeshaushalt 2021",
           "2022-01-27"
          ],
          [
           "Ausnahme von der „Schuldenbremse“",
           "2022-01-27"
          ],
          [
           "Wahlrechtsreform zur Verkleinerung des Bundestages ",
           "2023-03-17"
          ],
          [
           "Haushalt 2024 - Etat des Bundeskanzlers",
           "2024-01-31"
          ],
          [
           "Änderung des Bundesnaturschutzgesetzes",
           "2022-07-07"
          ],
          [
           "Beschleunigter Ausbau erneuerbarer Energien (Beschlussempfehlung)",
           "2022-07-07"
          ],
          [
           "Preisbremsen für leitungsgebundenes Erdgas und Wärme",
           "2022-12-15"
          ],
          [
           "Einführung einer Strompreisbremse",
           "2022-12-15"
          ],
          [
           "Einführung von bundesweiten Volksentscheiden",
           "2023-05-10"
          ],
          [
           "Ausbau der LNG-Gas-Infrastruktur",
           "2023-07-07"
          ],
          [
           "Änderung des Energiesicherungsgesetzes",
           "2022-11-24"
          ],
          [
           "Keine Bejagung von Wölfen",
           "2023-04-26"
          ],
          [
           "Stärkung des Schutzes der Bevölkerung vor COVID-19",
           "2022-09-08"
          ],
          [
           "Einführung des Bürgergeldes",
           "2022-11-10"
          ],
          [
           "Vermögensabgabe für Milliardär:innen und Multimillionär:innen (Antrag)",
           "2022-11-10"
          ],
          [
           "Etat des Bundeskanzlers und des Bundeskanzleramtes 2023",
           "2022-11-23"
          ]
         ],
         "hovertemplate": "%{customdata[0]}<extra></extra>",
         "marker": {
          "color": "#aa0000",
          "line": {
           "width": 0
          }
         },
         "orientation": "h",
         "showlegend": false,
         "type": "bar",
         "x": [
          -66,
          -96,
          -125,
          -144,
          -147,
          -157,
          -158,
          -164,
          -164,
          -165,
          -167,
          -167,
          -168,
          -169,
          -169,
          -171,
          -171,
          -171,
          -171,
          -172,
          -172,
          -172,
          -172,
          -173,
          -173,
          -173,
          -174,
          -174,
          -175,
          -175,
          -175,
          -175,
          -176,
          -177,
          -177,
          -177,
          -178,
          -179,
          -180,
          -180,
          -181,
          -182,
          -182,
          -182,
          -182,
          -182,
          -183,
          -183,
          -183,
          -184,
          -184,
          -184,
          -184,
          -184,
          -186,
          -186,
          -186,
          -186,
          -186,
          -186,
          -187,
          -187,
          -188,
          -188,
          -189,
          -190
         ],
         "xaxis": "x",
         "y": [
          1,
          2,
          3,
          7,
          11,
          18,
          19,
          25,
          26,
          27,
          33,
          34,
          35,
          36,
          39,
          43,
          44,
          45,
          47,
          50,
          51,
          52,
          53,
          56,
          58,
          59,
          61,
          62,
          64,
          65,
          67,
          68,
          70,
          77,
          78,
          80,
          82,
          87,
          93,
          94,
          97,
          103,
          104,
          107,
          108,
          111,
          113,
          114,
          117,
          118,
          119,
          120,
          122,
          124,
          127,
          128,
          129,
          130,
          131,
          132,
          134,
          136,
          138,
          139,
          142,
          143
         ],
         "yaxis": "y"
        },
        {
         "customdata": [
          [
           "Änderung des Erneuerbare-Energien-Gesetzes",
           "2024-04-26"
          ],
          [
           "Anhebung des Mindestlohns für Minijobs ",
           "2022-06-03"
          ]
         ],
         "hovertemplate": "%{customdata[0]}<extra></extra>",
         "marker": {
          "color": "#000000",
          "line": {
           "width": 0
          }
         },
         "orientation": "h",
         "showlegend": false,
         "type": "bar",
         "x": [
          -173,
          -176
         ],
         "xaxis": "x",
         "y": [
          60,
          71
         ],
         "yaxis": "y"
        },
        {
         "customdata": [
          [
           "Einigungsvorschlag zum Bürgergeld-Gesetz",
           "2022-11-25",
           "no",
           "Albert Rupprecht"
          ]
         ],
         "hovertemplate": "<b>%{customdata[3]}</b> (%{customdata[1]})<br>%{customdata[0]}<extra>%{customdata[2]}</extra>",
         "marker": {
          "color": "#aa0000",
          "line": {
           "color": "white",
           "width": 0.5
          }
         },
         "orientation": "h",
         "showlegend": false,
         "type": "bar",
         "x": [
          1
         ],
         "xaxis": "x3",
         "y": [
          73
         ],
         "yaxis": "y3"
        },
        {
         "customdata": [
          [
           "Suizidhilfegesetz",
           "2023-07-06",
           "abstain",
           "Alexander Föhr"
          ]
         ],
         "hovertemplate": "<b>%{customdata[3]}</b> (%{customdata[1]})<br>%{customdata[0]}<extra>%{customdata[2]}</extra>",
         "marker": {
          "color": "#000000",
          "line": {
           "color": "white",
           "width": 0.5
          }
         },
         "orientation": "h",
         "showlegend": false,
         "type": "bar",
         "x": [
          1
         ],
         "xaxis": "x3",
         "y": [
          93
         ],
         "yaxis": "y3"
        },
        {
         "customdata": [
          [
           "Impfpflicht für bestimmte Berufsgruppen und weitere Änderungen im Infektionsschutzgesetz",
           "2021-12-10",
           "abstain",
           "Alois Rainer"
          ]
         ],
         "hovertemplate": "<b>%{customdata[3]}</b> (%{customdata[1]})<br>%{customdata[0]}<extra>%{customdata[2]}</extra>",
         "marker": {
          "color": "#000000",
          "line": {
           "color": "white",
           "width": 0.5
          }
         },
         "orientation": "h",
         "showlegend": false,
         "type": "bar",
         "x": [
          1
         ],
         "xaxis": "x3",
         "y": [
          54
         ],
         "yaxis": "y3"
        },
        {
         "customdata": [
          [
           "Beteiligung der Bundeswehr in Niger (EUMPM Niger)",
           "2023-04-28",
           "abstain",
           "Andreas Lenz"
          ]
         ],
         "hovertemplate": "<b>%{customdata[3]}</b> (%{customdata[1]})<br>%{customdata[0]}<extra>%{customdata[2]}</extra>",
         "marker": {
          "color": "#000000",
          "line": {
           "color": "white",
           "width": 0.5
          }
         },
         "orientation": "h",
         "showlegend": false,
         "type": "bar",
         "x": [
          1
         ],
         "xaxis": "x3",
         "y": [
          22
         ],
         "yaxis": "y3"
        },
        {
         "customdata": [
          [
           "Impfbereitschaft ohne allgemeine Impfpflicht erhöhen",
           "2022-04-07",
           "yes",
           "Andreas Mattfeldt"
          ]
         ],
         "hovertemplate": "<b>%{customdata[3]}</b> (%{customdata[1]})<br>%{customdata[0]}<extra>%{customdata[2]}</extra>",
         "marker": {
          "color": "#00aa00",
          "line": {
           "color": "white",
           "width": 0.5
          }
         },
         "orientation": "h",
         "showlegend": false,
         "type": "bar",
         "x": [
          1
         ],
         "xaxis": "x3",
         "y": [
          43
         ],
         "yaxis": "y3"
        },
        {
         "customdata": [
          [
           "Impfpflicht für bestimmte Berufsgruppen und weitere Änderungen im Infektionsschutzgesetz",
           "2021-12-10",
           "no",
           "Andreas Mattfeldt"
          ]
         ],
         "hovertemplate": "<b>%{customdata[3]}</b> (%{customdata[1]})<br>%{customdata[0]}<extra>%{customdata[2]}</extra>",
         "marker": {
          "color": "#aa0000",
          "line": {
           "color": "white",
           "width": 0.5
          }
         },
         "orientation": "h",
         "showlegend": false,
         "type": "bar",
         "x": [
          1
         ],
         "xaxis": "x3",
         "y": [
          54
         ],
         "yaxis": "y3"
        },
        {
         "customdata": [
          [
           "CDU/CSU-Antrag: Impfvorsorgegesetz",
           "2022-04-07",
           "abstain",
           "Andreas Mattfeldt"
          ]
         ],
         "hovertemplate": "<b>%{customdata[3]}</b> (%{customdata[1]})<br>%{customdata[0]}<extra>%{customdata[2]}</extra>",
         "marker": {
          "color": "#000000",
          "line": {
           "color": "white",
           "width": 0.5
          }
         },
         "orientation": "h",
         "showlegend": false,
         "type": "bar",
         "x": [
          1
         ],
         "xaxis": "x3",
         "y": [
          48
         ],
         "yaxis": "y3"
        },
        {
         "customdata": [
          [
           "Chancen-Aufenthaltsrecht",
           "2022-12-02",
           "abstain",
           "Anja Karliczek"
          ]
         ],
         "hovertemplate": "<b>%{customdata[3]}</b> (%{customdata[1]})<br>%{customdata[0]}<extra>%{customdata[2]}</extra>",
         "marker": {
          "color": "#000000",
          "line": {
           "color": "white",
           "width": 0.5
          }
         },
         "orientation": "h",
         "showlegend": false,
         "type": "bar",
         "x": [
          1
         ],
         "xaxis": "x3",
         "y": [
          18
         ],
         "yaxis": "y3"
        },
        {
         "customdata": [
          [
           "Chancen-Aufenthaltsrecht",
           "2022-12-02",
           "abstain",
           "Annette Widmann-Mauz"
          ]
         ],
         "hovertemplate": "<b>%{customdata[3]}</b> (%{customdata[1]})<br>%{customdata[0]}<extra>%{customdata[2]}</extra>",
         "marker": {
          "color": "#000000",
          "line": {
           "color": "white",
           "width": 0.5
          }
         },
         "orientation": "h",
         "showlegend": false,
         "type": "bar",
         "x": [
          1
         ],
         "xaxis": "x3",
         "y": [
          18
         ],
         "yaxis": "y3"
        },
        {
         "customdata": [
          [
           "Impfpflicht ab 60",
           "2022-04-07",
           "yes",
           "Antje Tillmann"
          ]
         ],
         "hovertemplate": "<b>%{customdata[3]}</b> (%{customdata[1]})<br>%{customdata[0]}<extra>%{customdata[2]}</extra>",
         "marker": {
          "color": "#00aa00",
          "line": {
           "color": "white",
           "width": 0.5
          }
         },
         "orientation": "h",
         "showlegend": false,
         "type": "bar",
         "x": [
          1
         ],
         "xaxis": "x3",
         "y": [
          70
         ],
         "yaxis": "y3"
        },
        {
         "customdata": [
          [
           "Chancen-Aufenthaltsrecht",
           "2022-12-02",
           "abstain",
           "Antje Tillmann"
          ]
         ],
         "hovertemplate": "<b>%{customdata[3]}</b> (%{customdata[1]})<br>%{customdata[0]}<extra>%{customdata[2]}</extra>",
         "marker": {
          "color": "#000000",
          "line": {
           "color": "white",
           "width": 0.5
          }
         },
         "orientation": "h",
         "showlegend": false,
         "type": "bar",
         "x": [
          1
         ],
         "xaxis": "x3",
         "y": [
          18
         ],
         "yaxis": "y3"
        },
        {
         "customdata": [
          [
           "Chancen-Aufenthaltsrecht",
           "2022-12-02",
           "abstain",
           "Armin Laschet"
          ]
         ],
         "hovertemplate": "<b>%{customdata[3]}</b> (%{customdata[1]})<br>%{customdata[0]}<extra>%{customdata[2]}</extra>",
         "marker": {
          "color": "#000000",
          "line": {
           "color": "white",
           "width": 0.5
          }
         },
         "orientation": "h",
         "showlegend": false,
         "type": "bar",
         "x": [
          1
         ],
         "xaxis": "x3",
         "y": [
          18
         ],
         "yaxis": "y3"
        },
        {
         "customdata": [
          [
           "Förderung der geschäftsmäßigen Sterbehilfe grundsätzlich verbieten",
           "2023-07-06",
           "abstain",
           "Armin Schwarz"
          ]
         ],
         "hovertemplate": "<b>%{customdata[3]}</b> (%{customdata[1]})<br>%{customdata[0]}<extra>%{customdata[2]}</extra>",
         "marker": {
          "color": "#000000",
          "line": {
           "color": "white",
           "width": 0.5
          }
         },
         "orientation": "h",
         "showlegend": false,
         "type": "bar",
         "x": [
          1
         ],
         "xaxis": "x3",
         "y": [
          12
         ],
         "yaxis": "y3"
        },
        {
         "customdata": [
          [
           "Förderung der geschäftsmäßigen Sterbehilfe grundsätzlich verbieten",
           "2023-07-06",
           "no",
           "Astrid Timmermann-Fechter"
          ]
         ],
         "hovertemplate": "<b>%{customdata[3]}</b> (%{customdata[1]})<br>%{customdata[0]}<extra>%{customdata[2]}</extra>",
         "marker": {
          "color": "#aa0000",
          "line": {
           "color": "white",
           "width": 0.5
          }
         },
         "orientation": "h",
         "showlegend": false,
         "type": "bar",
         "x": [
          1
         ],
         "xaxis": "x3",
         "y": [
          12
         ],
         "yaxis": "y3"
        },
        {
         "customdata": [
          [
           "Förderung der geschäftsmäßigen Sterbehilfe grundsätzlich verbieten",
           "2023-07-06",
           "abstain",
           "Christoph de Vries"
          ]
         ],
         "hovertemplate": "<b>%{customdata[3]}</b> (%{customdata[1]})<br>%{customdata[0]}<extra>%{customdata[2]}</extra>",
         "marker": {
          "color": "#000000",
          "line": {
           "color": "white",
           "width": 0.5
          }
         },
         "orientation": "h",
         "showlegend": false,
         "type": "bar",
         "x": [
          1
         ],
         "xaxis": "x3",
         "y": [
          12
         ],
         "yaxis": "y3"
        },
        {
         "customdata": [
          [
           "Förderung der geschäftsmäßigen Sterbehilfe grundsätzlich verbieten",
           "2023-07-06",
           "no",
           "Daniela Ludwig"
          ]
         ],
         "hovertemplate": "<b>%{customdata[3]}</b> (%{customdata[1]})<br>%{customdata[0]}<extra>%{customdata[2]}</extra>",
         "marker": {
          "color": "#aa0000",
          "line": {
           "color": "white",
           "width": 0.5
          }
         },
         "orientation": "h",
         "showlegend": false,
         "type": "bar",
         "x": [
          1
         ],
         "xaxis": "x3",
         "y": [
          12
         ],
         "yaxis": "y3"
        },
        {
         "customdata": [
          [
           "Impfbereitschaft ohne allgemeine Impfpflicht erhöhen",
           "2022-04-07",
           "yes",
           "Dieter Stier"
          ]
         ],
         "hovertemplate": "<b>%{customdata[3]}</b> (%{customdata[1]})<br>%{customdata[0]}<extra>%{customdata[2]}</extra>",
         "marker": {
          "color": "#00aa00",
          "line": {
           "color": "white",
           "width": 0.5
          }
         },
         "orientation": "h",
         "showlegend": false,
         "type": "bar",
         "x": [
          1
         ],
         "xaxis": "x3",
         "y": [
          43
         ],
         "yaxis": "y3"
        },
        {
         "customdata": [
          [
           "Förderung der geschäftsmäßigen Sterbehilfe grundsätzlich verbieten",
           "2023-07-06",
           "no",
           "Dieter Stier"
          ],
          [
           "Änderung des Erneuerbare-Energien-Gesetzes",
           "2024-04-26",
           "no",
           "Dieter Stier"
          ]
         ],
         "hovertemplate": "<b>%{customdata[3]}</b> (%{customdata[1]})<br>%{customdata[0]}<extra>%{customdata[2]}</extra>",
         "marker": {
          "color": "#aa0000",
          "line": {
           "color": "white",
           "width": 0.5
          }
         },
         "orientation": "h",
         "showlegend": false,
         "type": "bar",
         "x": [
          1
         ],
         "xaxis": "x3",
         "y": [
          12,
          60
         ],
         "yaxis": "y3"
        },
        {
         "customdata": [
          [
           "CDU/CSU-Antrag: Verlängerung der epidemischen Lage nationaler Tragweite",
           "2021-11-18",
           "abstain",
           "Dieter Stier"
          ],
          [
           "CDU/CSU-Antrag: Impfvorsorgegesetz",
           "2022-04-07",
           "abstain",
           "Dieter Stier"
          ],
          [
           "Einigungsvorschlag zum Bürgergeld-Gesetz",
           "2022-11-25",
           "abstain",
           "Dieter Stier"
          ]
         ],
         "hovertemplate": "<b>%{customdata[3]}</b> (%{customdata[1]})<br>%{customdata[0]}<extra>%{customdata[2]}</extra>",
         "marker": {
          "color": "#000000",
          "line": {
           "color": "white",
           "width": 0.5
          }
         },
         "orientation": "h",
         "showlegend": false,
         "type": "bar",
         "x": [
          1
         ],
         "xaxis": "x3",
         "y": [
          81,
          48,
          73
         ],
         "yaxis": "y3"
        },
        {
         "customdata": [
          [
           "Untersuchungsausschuss \"Bekämpfung des Corona-Virus\" nicht einsetzen",
           "2023-04-19",
           "no",
           "Dietrich Monstadt"
          ]
         ],
         "hovertemplate": "<b>%{customdata[3]}</b> (%{customdata[1]})<br>%{customdata[0]}<extra>%{customdata[2]}</extra>",
         "marker": {
          "color": "#aa0000",
          "line": {
           "color": "white",
           "width": 0.5
          }
         },
         "orientation": "h",
         "showlegend": false,
         "type": "bar",
         "x": [
          1
         ],
         "xaxis": "x3",
         "y": [
          41
         ],
         "yaxis": "y3"
        },
        {
         "customdata": [
          [
           "Förderung der geschäftsmäßigen Sterbehilfe grundsätzlich verbieten",
           "2023-07-06",
           "no",
           "Dorothee Bär"
          ]
         ],
         "hovertemplate": "<b>%{customdata[3]}</b> (%{customdata[1]})<br>%{customdata[0]}<extra>%{customdata[2]}</extra>",
         "marker": {
          "color": "#aa0000",
          "line": {
           "color": "white",
           "width": 0.5
          }
         },
         "orientation": "h",
         "showlegend": false,
         "type": "bar",
         "x": [
          1
         ],
         "xaxis": "x3",
         "y": [
          12
         ],
         "yaxis": "y3"
        },
        {
         "customdata": [
          [
           "Chancen-Aufenthaltsrecht",
           "2022-12-02",
           "abstain",
           "Elisabeth Winkelmeier-Becker"
          ]
         ],
         "hovertemplate": "<b>%{customdata[3]}</b> (%{customdata[1]})<br>%{customdata[0]}<extra>%{customdata[2]}</extra>",
         "marker": {
          "color": "#000000",
          "line": {
           "color": "white",
           "width": 0.5
          }
         },
         "orientation": "h",
         "showlegend": false,
         "type": "bar",
         "x": [
          1
         ],
         "xaxis": "x3",
         "y": [
          18
         ],
         "yaxis": "y3"
        },
        {
         "customdata": [
          [
           "Keine Lieferung von Taurus-Marschflugkörpern an die Ukraine (Beschlussempfehlung)",
           "2024-03-14",
           "yes",
           "Emmi Zeulner"
          ]
         ],
         "hovertemplate": "<b>%{customdata[3]}</b> (%{customdata[1]})<br>%{customdata[0]}<extra>%{customdata[2]}</extra>",
         "marker": {
          "color": "#00aa00",
          "line": {
           "color": "white",
           "width": 0.5
          }
         },
         "orientation": "h",
         "showlegend": false,
         "type": "bar",
         "x": [
          1
         ],
         "xaxis": "x3",
         "y": [
          117
         ],
         "yaxis": "y3"
        },
        {
         "customdata": [
          [
           "Änderung des Infektionsschutzgesetzes (Triage-Entscheidungen)",
           "2022-11-10",
           "yes",
           "Erich Irlstorfer"
          ]
         ],
         "hovertemplate": "<b>%{customdata[3]}</b> (%{customdata[1]})<br>%{customdata[0]}<extra>%{customdata[2]}</extra>",
         "marker": {
          "color": "#00aa00",
          "line": {
           "color": "white",
           "width": 0.5
          }
         },
         "orientation": "h",
         "showlegend": false,
         "type": "bar",
         "x": [
          1
         ],
         "xaxis": "x3",
         "y": [
          68
         ],
         "yaxis": "y3"
        },
        {
         "customdata": [
          [
           "Förderung der geschäftsmäßigen Sterbehilfe grundsätzlich verbieten",
           "2023-07-06",
           "no",
           "Erich Irlstorfer"
          ]
         ],
         "hovertemplate": "<b>%{customdata[3]}</b> (%{customdata[1]})<br>%{customdata[0]}<extra>%{customdata[2]}</extra>",
         "marker": {
          "color": "#aa0000",
          "line": {
           "color": "white",
           "width": 0.5
          }
         },
         "orientation": "h",
         "showlegend": false,
         "type": "bar",
         "x": [
          1
         ],
         "xaxis": "x3",
         "y": [
          12
         ],
         "yaxis": "y3"
        },
        {
         "customdata": [
          [
           "AfD-Antrag: Einrichtungsbezogene Impfpflicht abschaffen",
           "2022-05-19",
           "abstain",
           "Erich Irlstorfer"
          ]
         ],
         "hovertemplate": "<b>%{customdata[3]}</b> (%{customdata[1]})<br>%{customdata[0]}<extra>%{customdata[2]}</extra>",
         "marker": {
          "color": "#000000",
          "line": {
           "color": "white",
           "width": 0.5
          }
         },
         "orientation": "h",
         "showlegend": false,
         "type": "bar",
         "x": [
          1
         ],
         "xaxis": "x3",
         "y": [
          56
         ],
         "yaxis": "y3"
        },
        {
         "customdata": [
          [
           "Beteiligung der Bundeswehr in Niger (EUMPM Niger)",
           "2023-04-28",
           "abstain",
           "Florian Oßner"
          ]
         ],
         "hovertemplate": "<b>%{customdata[3]}</b> (%{customdata[1]})<br>%{customdata[0]}<extra>%{customdata[2]}</extra>",
         "marker": {
          "color": "#000000",
          "line": {
           "color": "white",
           "width": 0.5
          }
         },
         "orientation": "h",
         "showlegend": false,
         "type": "bar",
         "x": [
          1
         ],
         "xaxis": "x3",
         "y": [
          22
         ],
         "yaxis": "y3"
        },
        {
         "customdata": [
          [
           "Änderung des Erneuerbare-Energien-Gesetzes",
           "2024-04-26",
           "no",
           "Hans-Jürgen Thies"
          ]
         ],
         "hovertemplate": "<b>%{customdata[3]}</b> (%{customdata[1]})<br>%{customdata[0]}<extra>%{customdata[2]}</extra>",
         "marker": {
          "color": "#aa0000",
          "line": {
           "color": "white",
           "width": 0.5
          }
         },
         "orientation": "h",
         "showlegend": false,
         "type": "bar",
         "x": [
          1
         ],
         "xaxis": "x3",
         "y": [
          60
         ],
         "yaxis": "y3"
        },
        {
         "customdata": [
          [
           "Impfpflicht für bestimmte Berufsgruppen und weitere Änderungen im Infektionsschutzgesetz",
           "2021-12-10",
           "no",
           "Hans-Peter Friedrich"
          ],
          [
           "Lieferung von TAURUS-Marschflugkörpern an die Ukraine",
           "2024-01-17",
           "no",
           "Hans-Peter Friedrich"
          ]
         ],
         "hovertemplate": "<b>%{customdata[3]}</b> (%{customdata[1]})<br>%{customdata[0]}<extra>%{customdata[2]}</extra>",
         "marker": {
          "color": "#aa0000",
          "line": {
           "color": "white",
           "width": 0.5
          }
         },
         "orientation": "h",
         "showlegend": false,
         "type": "bar",
         "x": [
          1
         ],
         "xaxis": "x3",
         "y": [
          54,
          75
         ],
         "yaxis": "y3"
        },
        {
         "customdata": [
          [
           "CDU/CSU-Antrag: Impfvorsorgegesetz",
           "2022-04-07",
           "abstain",
           "Hans-Peter Friedrich"
          ],
          [
           "Impfbereitschaft ohne allgemeine Impfpflicht erhöhen",
           "2022-04-07",
           "abstain",
           "Hans-Peter Friedrich"
          ],
          [
           "Keine Lieferung von Taurus-Marschflugkörpern an die Ukraine (Beschlussempfehlung)",
           "2024-03-14",
           "abstain",
           "Hans-Peter Friedrich"
          ]
         ],
         "hovertemplate": "<b>%{customdata[3]}</b> (%{customdata[1]})<br>%{customdata[0]}<extra>%{customdata[2]}</extra>",
         "marker": {
          "color": "#000000",
          "line": {
           "color": "white",
           "width": 0.5
          }
         },
         "orientation": "h",
         "showlegend": false,
         "type": "bar",
         "x": [
          1
         ],
         "xaxis": "x3",
         "y": [
          48,
          43,
          117
         ],
         "yaxis": "y3"
        },
        {
         "customdata": [
          [
           "CDU/CSU-Antrag: Impfvorsorgegesetz",
           "2022-04-07",
           "no",
           "Heike Brehmer"
          ]
         ],
         "hovertemplate": "<b>%{customdata[3]}</b> (%{customdata[1]})<br>%{customdata[0]}<extra>%{customdata[2]}</extra>",
         "marker": {
          "color": "#aa0000",
          "line": {
           "color": "white",
           "width": 0.5
          }
         },
         "orientation": "h",
         "showlegend": false,
         "type": "bar",
         "x": [
          1
         ],
         "xaxis": "x3",
         "y": [
          48
         ],
         "yaxis": "y3"
        },
        {
         "customdata": [
          [
           "Keine Lieferung von Taurus-Marschflugkörpern an die Ukraine (Beschlussempfehlung)",
           "2024-03-14",
           "abstain",
           "Heike Brehmer"
          ]
         ],
         "hovertemplate": "<b>%{customdata[3]}</b> (%{customdata[1]})<br>%{customdata[0]}<extra>%{customdata[2]}</extra>",
         "marker": {
          "color": "#000000",
          "line": {
           "color": "white",
           "width": 0.5
          }
         },
         "orientation": "h",
         "showlegend": false,
         "type": "bar",
         "x": [
          1
         ],
         "xaxis": "x3",
         "y": [
          117
         ],
         "yaxis": "y3"
        },
        {
         "customdata": [
          [
           "Förderung der geschäftsmäßigen Sterbehilfe grundsätzlich verbieten",
           "2023-07-06",
           "no",
           "Helge Braun"
          ]
         ],
         "hovertemplate": "<b>%{customdata[3]}</b> (%{customdata[1]})<br>%{customdata[0]}<extra>%{customdata[2]}</extra>",
         "marker": {
          "color": "#aa0000",
          "line": {
           "color": "white",
           "width": 0.5
          }
         },
         "orientation": "h",
         "showlegend": false,
         "type": "bar",
         "x": [
          1
         ],
         "xaxis": "x3",
         "y": [
          12
         ],
         "yaxis": "y3"
        },
        {
         "customdata": [
          [
           "Chancen-Aufenthaltsrecht",
           "2022-12-02",
           "abstain",
           "Helge Braun"
          ]
         ],
         "hovertemplate": "<b>%{customdata[3]}</b> (%{customdata[1]})<br>%{customdata[0]}<extra>%{customdata[2]}</extra>",
         "marker": {
          "color": "#000000",
          "line": {
           "color": "white",
           "width": 0.5
          }
         },
         "orientation": "h",
         "showlegend": false,
         "type": "bar",
         "x": [
          1
         ],
         "xaxis": "x3",
         "y": [
          18
         ],
         "yaxis": "y3"
        },
        {
         "customdata": [
          [
           "Chancen-Aufenthaltsrecht",
           "2022-12-02",
           "abstain",
           "Hermann Gröhe"
          ]
         ],
         "hovertemplate": "<b>%{customdata[3]}</b> (%{customdata[1]})<br>%{customdata[0]}<extra>%{customdata[2]}</extra>",
         "marker": {
          "color": "#000000",
          "line": {
           "color": "white",
           "width": 0.5
          }
         },
         "orientation": "h",
         "showlegend": false,
         "type": "bar",
         "x": [
          1
         ],
         "xaxis": "x3",
         "y": [
          18
         ],
         "yaxis": "y3"
        },
        {
         "customdata": [
          [
           "Förderung der geschäftsmäßigen Sterbehilfe grundsätzlich verbieten",
           "2023-07-06",
           "abstain",
           "Hubert Hüppe"
          ]
         ],
         "hovertemplate": "<b>%{customdata[3]}</b> (%{customdata[1]})<br>%{customdata[0]}<extra>%{customdata[2]}</extra>",
         "marker": {
          "color": "#000000",
          "line": {
           "color": "white",
           "width": 0.5
          }
         },
         "orientation": "h",
         "showlegend": false,
         "type": "bar",
         "x": [
          1
         ],
         "xaxis": "x3",
         "y": [
          12
         ],
         "yaxis": "y3"
        },
        {
         "customdata": [
          [
           "Wiedereinsetzung des Stabilitäts- und Wachstumspaktes auf EU-Ebene",
           "2022-09-30",
           "abstain",
           "Inge Gräßle"
          ],
          [
           "Chancen-Aufenthaltsrecht",
           "2022-12-02",
           "abstain",
           "Inge Gräßle"
          ]
         ],
         "hovertemplate": "<b>%{customdata[3]}</b> (%{customdata[1]})<br>%{customdata[0]}<extra>%{customdata[2]}</extra>",
         "marker": {
          "color": "#000000",
          "line": {
           "color": "white",
           "width": 0.5
          }
         },
         "orientation": "h",
         "showlegend": false,
         "type": "bar",
         "x": [
          1
         ],
         "xaxis": "x3",
         "y": [
          32,
          18
         ],
         "yaxis": "y3"
        },
        {
         "customdata": [
          [
           "Förderung der geschäftsmäßigen Sterbehilfe grundsätzlich verbieten",
           "2023-07-06",
           "no",
           "Jan-Marco Luczak"
          ]
         ],
         "hovertemplate": "<b>%{customdata[3]}</b> (%{customdata[1]})<br>%{customdata[0]}<extra>%{customdata[2]}</extra>",
         "marker": {
          "color": "#aa0000",
          "line": {
           "color": "white",
           "width": 0.5
          }
         },
         "orientation": "h",
         "showlegend": false,
         "type": "bar",
         "x": [
          1
         ],
         "xaxis": "x3",
         "y": [
          12
         ],
         "yaxis": "y3"
        },
        {
         "customdata": [
          [
           "Selbstbestimmungsgesetz",
           "2024-04-12",
           "abstain",
           "Jan-Marco Luczak"
          ]
         ],
         "hovertemplate": "<b>%{customdata[3]}</b> (%{customdata[1]})<br>%{customdata[0]}<extra>%{customdata[2]}</extra>",
         "marker": {
          "color": "#000000",
          "line": {
           "color": "white",
           "width": 0.5
          }
         },
         "orientation": "h",
         "showlegend": false,
         "type": "bar",
         "x": [
          1
         ],
         "xaxis": "x3",
         "y": [
          47
         ],
         "yaxis": "y3"
        },
        {
         "customdata": [
          [
           "Impfbereitschaft ohne allgemeine Impfpflicht erhöhen",
           "2022-04-07",
           "yes",
           "Jana Schimke"
          ]
         ],
         "hovertemplate": "<b>%{customdata[3]}</b> (%{customdata[1]})<br>%{customdata[0]}<extra>%{customdata[2]}</extra>",
         "marker": {
          "color": "#00aa00",
          "line": {
           "color": "white",
           "width": 0.5
          }
         },
         "orientation": "h",
         "showlegend": false,
         "type": "bar",
         "x": [
          1
         ],
         "xaxis": "x3",
         "y": [
          43
         ],
         "yaxis": "y3"
        },
        {
         "customdata": [
          [
           "Impfpflicht für bestimmte Berufsgruppen und weitere Änderungen im Infektionsschutzgesetz",
           "2021-12-10",
           "no",
           "Jana Schimke"
          ],
          [
           "Förderung der geschäftsmäßigen Sterbehilfe grundsätzlich verbieten",
           "2023-07-06",
           "no",
           "Jana Schimke"
          ]
         ],
         "hovertemplate": "<b>%{customdata[3]}</b> (%{customdata[1]})<br>%{customdata[0]}<extra>%{customdata[2]}</extra>",
         "marker": {
          "color": "#aa0000",
          "line": {
           "color": "white",
           "width": 0.5
          }
         },
         "orientation": "h",
         "showlegend": false,
         "type": "bar",
         "x": [
          1
         ],
         "xaxis": "x3",
         "y": [
          54,
          12
         ],
         "yaxis": "y3"
        },
        {
         "customdata": [
          [
           "CDU/CSU-Antrag: Impfvorsorgegesetz",
           "2022-04-07",
           "abstain",
           "Jana Schimke"
          ]
         ],
         "hovertemplate": "<b>%{customdata[3]}</b> (%{customdata[1]})<br>%{customdata[0]}<extra>%{customdata[2]}</extra>",
         "marker": {
          "color": "#000000",
          "line": {
           "color": "white",
           "width": 0.5
          }
         },
         "orientation": "h",
         "showlegend": false,
         "type": "bar",
         "x": [
          1
         ],
         "xaxis": "x3",
         "y": [
          48
         ],
         "yaxis": "y3"
        },
        {
         "customdata": [
          [
           "Impfbereitschaft ohne allgemeine Impfpflicht erhöhen",
           "2022-04-07",
           "yes",
           "Jens Koeppen"
          ],
          [
           "Suizidhilfegesetz",
           "2023-07-06",
           "yes",
           "Jens Koeppen"
          ],
          [
           "Keine Lieferung von Taurus-Marschflugkörpern an die Ukraine (Beschlussempfehlung)",
           "2024-03-14",
           "yes",
           "Jens Koeppen"
          ]
         ],
         "hovertemplate": "<b>%{customdata[3]}</b> (%{customdata[1]})<br>%{customdata[0]}<extra>%{customdata[2]}</extra>",
         "marker": {
          "color": "#00aa00",
          "line": {
           "color": "white",
           "width": 0.5
          }
         },
         "orientation": "h",
         "showlegend": false,
         "type": "bar",
         "x": [
          1
         ],
         "xaxis": "x3",
         "y": [
          43,
          93,
          117
         ],
         "yaxis": "y3"
        },
        {
         "customdata": [
          [
           "CDU/CSU-Antrag: Verlängerung der epidemischen Lage nationaler Tragweite",
           "2021-11-18",
           "no",
           "Jens Koeppen"
          ],
          [
           "Impfpflicht für bestimmte Berufsgruppen und weitere Änderungen im Infektionsschutzgesetz",
           "2021-12-10",
           "no",
           "Jens Koeppen"
          ],
          [
           "Umfassende Unterstützung für die Ukraine ",
           "2022-04-28",
           "no",
           "Jens Koeppen"
          ],
          [
           "Änderung des Windenergie-auf-See-Gesetzes",
           "2022-07-07",
           "no",
           "Jens Koeppen"
          ],
          [
           "Stärkung und Reform der Weltgesundheitsorganisation",
           "2023-05-12",
           "no",
           "Jens Koeppen"
          ],
          [
           "Förderung der geschäftsmäßigen Sterbehilfe grundsätzlich verbieten",
           "2023-07-06",
           "no",
           "Jens Koeppen"
          ],
          [
           "Fortsetzung des Bundeswehreinsatzes im Irak",
           "2023-10-18",
           "no",
           "Jens Koeppen"
          ],
          [
           "Veränderungen in der deutschen Außen- und Sicherheitspolitik erforderlich",
           "2024-02-22",
           "no",
           "Jens Koeppen"
          ],
          [
           "Verlängerung des Bundes­wehreinsatzes in Südsudan (UNMISS)",
           "2024-03-22",
           "no",
           "Jens Koeppen"
          ],
          [
           "Verlängerung des Bundeswehreinsatzes SEA GUARDIAN im Mittelmeer",
           "2024-03-22",
           "no",
           "Jens Koeppen"
          ],
          [
           "Änderung des Erneuerbare-Energien-Gesetzes",
           "2024-04-26",
           "no",
           "Jens Koeppen"
          ]
         ],
         "hovertemplate": "<b>%{customdata[3]}</b> (%{customdata[1]})<br>%{customdata[0]}<extra>%{customdata[2]}</extra>",
         "marker": {
          "color": "#aa0000",
          "line": {
           "color": "white",
           "width": 0.5
          }
         },
         "orientation": "h",
         "showlegend": false,
         "type": "bar",
         "x": [
          1
         ],
         "xaxis": "x3",
         "y": [
          81,
          54,
          125,
          105,
          9,
          12,
          79,
          90,
          100,
          101,
          60
         ],
         "yaxis": "y3"
        },
        {
         "customdata": [
          [
           "CDU/CSU-Antrag: Impfvorsorgegesetz",
           "2022-04-07",
           "abstain",
           "Jens Koeppen"
          ],
          [
           "Inflationsausgleichsgesetz",
           "2022-11-10",
           "abstain",
           "Jens Koeppen"
          ],
          [
           "Ablehnung des Elf-Punkte-Plans zum Schutz der Grenzen (Beschlussempfehlung)",
           "2023-09-28",
           "abstain",
           "Jens Koeppen"
          ],
          [
           "Stiftungsfinanzierungsgesetz",
           "2023-11-10",
           "abstain",
           "Jens Koeppen"
          ],
          [
           "Änderung des Atomgesetzes",
           "2023-11-10",
           "abstain",
           "Jens Koeppen"
          ],
          [
           "Verlängerung des Bundeswehreinsatzes im Mittelmeer (EUNAVFOR MED IRINI)",
           "2024-04-25",
           "abstain",
           "Jens Koeppen"
          ],
          [
           "Keine Ablehnung des WHO-Pandemievertrags",
           "2024-05-16",
           "abstain",
           "Jens Koeppen"
          ],
          [
           "Ablehnung eines Antrags zum Verbot des Vereins \"Muslim Interaktiv\"",
           "2024-06-13",
           "abstain",
           "Jens Koeppen"
          ]
         ],
         "hovertemplate": "<b>%{customdata[3]}</b> (%{customdata[1]})<br>%{customdata[0]}<extra>%{customdata[2]}</extra>",
         "marker": {
          "color": "#000000",
          "line": {
           "color": "white",
           "width": 0.5
          }
         },
         "orientation": "h",
         "showlegend": false,
         "type": "bar",
         "x": [
          1
         ],
         "xaxis": "x3",
         "y": [
          48,
          140,
          74,
          13,
          11,
          91,
          85,
          112
         ],
         "yaxis": "y3"
        },
        {
         "customdata": [
          [
           "CDU/CSU-Antrag: Impfvorsorgegesetz",
           "2022-04-07",
           "no",
           "Jens Lehmann"
          ]
         ],
         "hovertemplate": "<b>%{customdata[3]}</b> (%{customdata[1]})<br>%{customdata[0]}<extra>%{customdata[2]}</extra>",
         "marker": {
          "color": "#aa0000",
          "line": {
           "color": "white",
           "width": 0.5
          }
         },
         "orientation": "h",
         "showlegend": false,
         "type": "bar",
         "x": [
          1
         ],
         "xaxis": "x3",
         "y": [
          48
         ],
         "yaxis": "y3"
        },
        {
         "customdata": [
          [
           "Impfbereitschaft ohne allgemeine Impfpflicht erhöhen",
           "2022-04-07",
           "abstain",
           "Jens Lehmann"
          ]
         ],
         "hovertemplate": "<b>%{customdata[3]}</b> (%{customdata[1]})<br>%{customdata[0]}<extra>%{customdata[2]}</extra>",
         "marker": {
          "color": "#000000",
          "line": {
           "color": "white",
           "width": 0.5
          }
         },
         "orientation": "h",
         "showlegend": false,
         "type": "bar",
         "x": [
          1
         ],
         "xaxis": "x3",
         "y": [
          43
         ],
         "yaxis": "y3"
        },
        {
         "customdata": [
          [
           "Abwehrschirm gegen gestiegene Strom- und Gaspreise",
           "2022-10-21",
           "yes",
           "Jonas Geissler"
          ]
         ],
         "hovertemplate": "<b>%{customdata[3]}</b> (%{customdata[1]})<br>%{customdata[0]}<extra>%{customdata[2]}</extra>",
         "marker": {
          "color": "#00aa00",
          "line": {
           "color": "white",
           "width": 0.5
          }
         },
         "orientation": "h",
         "showlegend": false,
         "type": "bar",
         "x": [
          1
         ],
         "xaxis": "x3",
         "y": [
          50
         ],
         "yaxis": "y3"
        },
        {
         "customdata": [
          [
           "Förderung der geschäftsmäßigen Sterbehilfe grundsätzlich verbieten",
           "2023-07-06",
           "no",
           "Josef Oster"
          ]
         ],
         "hovertemplate": "<b>%{customdata[3]}</b> (%{customdata[1]})<br>%{customdata[0]}<extra>%{customdata[2]}</extra>",
         "marker": {
          "color": "#aa0000",
          "line": {
           "color": "white",
           "width": 0.5
          }
         },
         "orientation": "h",
         "showlegend": false,
         "type": "bar",
         "x": [
          1
         ],
         "xaxis": "x3",
         "y": [
          12
         ],
         "yaxis": "y3"
        },
        {
         "customdata": [
          [
           "Suizidhilfegesetz",
           "2023-07-06",
           "abstain",
           "Josef Oster"
          ]
         ],
         "hovertemplate": "<b>%{customdata[3]}</b> (%{customdata[1]})<br>%{customdata[0]}<extra>%{customdata[2]}</extra>",
         "marker": {
          "color": "#000000",
          "line": {
           "color": "white",
           "width": 0.5
          }
         },
         "orientation": "h",
         "showlegend": false,
         "type": "bar",
         "x": [
          1
         ],
         "xaxis": "x3",
         "y": [
          93
         ],
         "yaxis": "y3"
        },
        {
         "customdata": [
          [
           "Änderung des Erneuerbare-Energien-Gesetzes",
           "2024-04-26",
           "no",
           "Josef Rief"
          ]
         ],
         "hovertemplate": "<b>%{customdata[3]}</b> (%{customdata[1]})<br>%{customdata[0]}<extra>%{customdata[2]}</extra>",
         "marker": {
          "color": "#aa0000",
          "line": {
           "color": "white",
           "width": 0.5
          }
         },
         "orientation": "h",
         "showlegend": false,
         "type": "bar",
         "x": [
          1
         ],
         "xaxis": "x3",
         "y": [
          60
         ],
         "yaxis": "y3"
        },
        {
         "customdata": [
          [
           "Impfpflicht ab 60",
           "2022-04-07",
           "yes",
           "Kai Whittaker"
          ]
         ],
         "hovertemplate": "<b>%{customdata[3]}</b> (%{customdata[1]})<br>%{customdata[0]}<extra>%{customdata[2]}</extra>",
         "marker": {
          "color": "#00aa00",
          "line": {
           "color": "white",
           "width": 0.5
          }
         },
         "orientation": "h",
         "showlegend": false,
         "type": "bar",
         "x": [
          1
         ],
         "xaxis": "x3",
         "y": [
          70
         ],
         "yaxis": "y3"
        },
        {
         "customdata": [
          [
           "Chancen-Aufenthaltsrecht",
           "2022-12-02",
           "abstain",
           "Kai Whittaker"
          ]
         ],
         "hovertemplate": "<b>%{customdata[3]}</b> (%{customdata[1]})<br>%{customdata[0]}<extra>%{customdata[2]}</extra>",
         "marker": {
          "color": "#000000",
          "line": {
           "color": "white",
           "width": 0.5
          }
         },
         "orientation": "h",
         "showlegend": false,
         "type": "bar",
         "x": [
          1
         ],
         "xaxis": "x3",
         "y": [
          18
         ],
         "yaxis": "y3"
        },
        {
         "customdata": [
          [
           "Förderung der geschäftsmäßigen Sterbehilfe grundsätzlich verbieten",
           "2023-07-06",
           "no",
           "Katrin Staffler"
          ]
         ],
         "hovertemplate": "<b>%{customdata[3]}</b> (%{customdata[1]})<br>%{customdata[0]}<extra>%{customdata[2]}</extra>",
         "marker": {
          "color": "#aa0000",
          "line": {
           "color": "white",
           "width": 0.5
          }
         },
         "orientation": "h",
         "showlegend": false,
         "type": "bar",
         "x": [
          1
         ],
         "xaxis": "x3",
         "y": [
          12
         ],
         "yaxis": "y3"
        },
        {
         "customdata": [
          [
           "Förderung der geschäftsmäßigen Sterbehilfe grundsätzlich verbieten",
           "2023-07-06",
           "no",
           "Kerstin Radomski"
          ]
         ],
         "hovertemplate": "<b>%{customdata[3]}</b> (%{customdata[1]})<br>%{customdata[0]}<extra>%{customdata[2]}</extra>",
         "marker": {
          "color": "#aa0000",
          "line": {
           "color": "white",
           "width": 0.5
          }
         },
         "orientation": "h",
         "showlegend": false,
         "type": "bar",
         "x": [
          1
         ],
         "xaxis": "x3",
         "y": [
          12
         ],
         "yaxis": "y3"
        },
        {
         "customdata": [
          [
           "Impfpflicht für bestimmte Berufsgruppen und weitere Änderungen im Infektionsschutzgesetz",
           "2021-12-10",
           "abstain",
           "Kerstin Radomski"
          ],
          [
           "Stiftungsfinanzierungsgesetz",
           "2023-11-10",
           "abstain",
           "Kerstin Radomski"
          ]
         ],
         "hovertemplate": "<b>%{customdata[3]}</b> (%{customdata[1]})<br>%{customdata[0]}<extra>%{customdata[2]}</extra>",
         "marker": {
          "color": "#000000",
          "line": {
           "color": "white",
           "width": 0.5
          }
         },
         "orientation": "h",
         "showlegend": false,
         "type": "bar",
         "x": [
          1
         ],
         "xaxis": "x3",
         "y": [
          54,
          13
         ],
         "yaxis": "y3"
        },
        {
         "customdata": [
          [
           "Reform des Nachrichtendienstrechts",
           "2023-11-16",
           "yes",
           "Kerstin Vieregge"
          ]
         ],
         "hovertemplate": "<b>%{customdata[3]}</b> (%{customdata[1]})<br>%{customdata[0]}<extra>%{customdata[2]}</extra>",
         "marker": {
          "color": "#00aa00",
          "line": {
           "color": "white",
           "width": 0.5
          }
         },
         "orientation": "h",
         "showlegend": false,
         "type": "bar",
         "x": [
          1
         ],
         "xaxis": "x3",
         "y": [
          51
         ],
         "yaxis": "y3"
        },
        {
         "customdata": [
          [
           "Förderung der geschäftsmäßigen Sterbehilfe grundsätzlich verbieten",
           "2023-07-06",
           "abstain",
           "Kerstin Vieregge"
          ]
         ],
         "hovertemplate": "<b>%{customdata[3]}</b> (%{customdata[1]})<br>%{customdata[0]}<extra>%{customdata[2]}</extra>",
         "marker": {
          "color": "#000000",
          "line": {
           "color": "white",
           "width": 0.5
          }
         },
         "orientation": "h",
         "showlegend": false,
         "type": "bar",
         "x": [
          1
         ],
         "xaxis": "x3",
         "y": [
          12
         ],
         "yaxis": "y3"
        },
        {
         "customdata": [
          [
           "Förderung der geschäftsmäßigen Sterbehilfe grundsätzlich verbieten",
           "2023-07-06",
           "no",
           "Klaus-Peter Willsch"
          ]
         ],
         "hovertemplate": "<b>%{customdata[3]}</b> (%{customdata[1]})<br>%{customdata[0]}<extra>%{customdata[2]}</extra>",
         "marker": {
          "color": "#aa0000",
          "line": {
           "color": "white",
           "width": 0.5
          }
         },
         "orientation": "h",
         "showlegend": false,
         "type": "bar",
         "x": [
          1
         ],
         "xaxis": "x3",
         "y": [
          12
         ],
         "yaxis": "y3"
        },
        {
         "customdata": [
          [
           "Rücktritt von Bundesinnenministerin Nancy Faeser",
           "2023-09-20",
           "abstain",
           "Klaus-Peter Willsch"
          ]
         ],
         "hovertemplate": "<b>%{customdata[3]}</b> (%{customdata[1]})<br>%{customdata[0]}<extra>%{customdata[2]}</extra>",
         "marker": {
          "color": "#000000",
          "line": {
           "color": "white",
           "width": 0.5
          }
         },
         "orientation": "h",
         "showlegend": false,
         "type": "bar",
         "x": [
          1
         ],
         "xaxis": "x3",
         "y": [
          61
         ],
         "yaxis": "y3"
        },
        {
         "customdata": [
          [
           "Impfbereitschaft ohne allgemeine Impfpflicht erhöhen",
           "2022-04-07",
           "yes",
           "Knut Abraham"
          ]
         ],
         "hovertemplate": "<b>%{customdata[3]}</b> (%{customdata[1]})<br>%{customdata[0]}<extra>%{customdata[2]}</extra>",
         "marker": {
          "color": "#00aa00",
          "line": {
           "color": "white",
           "width": 0.5
          }
         },
         "orientation": "h",
         "showlegend": false,
         "type": "bar",
         "x": [
          1
         ],
         "xaxis": "x3",
         "y": [
          43
         ],
         "yaxis": "y3"
        },
        {
         "customdata": [
          [
           "Fortsetzung des Bundeswehreinsatzes im Sahel mit Schwerpunkt Niger (EUTM Mali 2022/2023)",
           "2022-05-20",
           "no",
           "Lars Rohwer"
          ]
         ],
         "hovertemplate": "<b>%{customdata[3]}</b> (%{customdata[1]})<br>%{customdata[0]}<extra>%{customdata[2]}</extra>",
         "marker": {
          "color": "#aa0000",
          "line": {
           "color": "white",
           "width": 0.5
          }
         },
         "orientation": "h",
         "showlegend": false,
         "type": "bar",
         "x": [
          1
         ],
         "xaxis": "x3",
         "y": [
          38
         ],
         "yaxis": "y3"
        },
        {
         "customdata": [
          [
           "Verlängerung des Bundeswehreinsatzes in Mali (MINUSMA 2022/2023)",
           "2022-05-20",
           "abstain",
           "Lars Rohwer"
          ]
         ],
         "hovertemplate": "<b>%{customdata[3]}</b> (%{customdata[1]})<br>%{customdata[0]}<extra>%{customdata[2]}</extra>",
         "marker": {
          "color": "#000000",
          "line": {
           "color": "white",
           "width": 0.5
          }
         },
         "orientation": "h",
         "showlegend": false,
         "type": "bar",
         "x": [
          1
         ],
         "xaxis": "x3",
         "y": [
          37
         ],
         "yaxis": "y3"
        },
        {
         "customdata": [
          [
           "Impfpflicht für bestimmte Berufsgruppen und weitere Änderungen im Infektionsschutzgesetz",
           "2021-12-10",
           "no",
           "Manfred Grund"
          ]
         ],
         "hovertemplate": "<b>%{customdata[3]}</b> (%{customdata[1]})<br>%{customdata[0]}<extra>%{customdata[2]}</extra>",
         "marker": {
          "color": "#aa0000",
          "line": {
           "color": "white",
           "width": 0.5
          }
         },
         "orientation": "h",
         "showlegend": false,
         "type": "bar",
         "x": [
          1
         ],
         "xaxis": "x3",
         "y": [
          54
         ],
         "yaxis": "y3"
        },
        {
         "customdata": [
          [
           "Impfpflicht ab 60",
           "2022-04-07",
           "yes",
           "Marco Wanderwitz"
          ]
         ],
         "hovertemplate": "<b>%{customdata[3]}</b> (%{customdata[1]})<br>%{customdata[0]}<extra>%{customdata[2]}</extra>",
         "marker": {
          "color": "#00aa00",
          "line": {
           "color": "white",
           "width": 0.5
          }
         },
         "orientation": "h",
         "showlegend": false,
         "type": "bar",
         "x": [
          1
         ],
         "xaxis": "x3",
         "y": [
          70
         ],
         "yaxis": "y3"
        },
        {
         "customdata": [
          [
           "Änderung des Windenergie-auf-See-Gesetzes",
           "2022-07-07",
           "no",
           "Marco Wanderwitz"
          ]
         ],
         "hovertemplate": "<b>%{customdata[3]}</b> (%{customdata[1]})<br>%{customdata[0]}<extra>%{customdata[2]}</extra>",
         "marker": {
          "color": "#aa0000",
          "line": {
           "color": "white",
           "width": 0.5
          }
         },
         "orientation": "h",
         "showlegend": false,
         "type": "bar",
         "x": [
          1
         ],
         "xaxis": "x3",
         "y": [
          105
         ],
         "yaxis": "y3"
        },
        {
         "customdata": [
          [
           "Chancen-Aufenthaltsrecht",
           "2022-12-02",
           "abstain",
           "Marco Wanderwitz"
          ]
         ],
         "hovertemplate": "<b>%{customdata[3]}</b> (%{customdata[1]})<br>%{customdata[0]}<extra>%{customdata[2]}</extra>",
         "marker": {
          "color": "#000000",
          "line": {
           "color": "white",
           "width": 0.5
          }
         },
         "orientation": "h",
         "showlegend": false,
         "type": "bar",
         "x": [
          1
         ],
         "xaxis": "x3",
         "y": [
          18
         ],
         "yaxis": "y3"
        },
        {
         "customdata": [
          [
           "Keine Lieferung von Taurus-Marschflugkörpern an die Ukraine (Beschlussempfehlung)",
           "2024-03-14",
           "yes",
           "Mario Czaja"
          ]
         ],
         "hovertemplate": "<b>%{customdata[3]}</b> (%{customdata[1]})<br>%{customdata[0]}<extra>%{customdata[2]}</extra>",
         "marker": {
          "color": "#00aa00",
          "line": {
           "color": "white",
           "width": 0.5
          }
         },
         "orientation": "h",
         "showlegend": false,
         "type": "bar",
         "x": [
          1
         ],
         "xaxis": "x3",
         "y": [
          117
         ],
         "yaxis": "y3"
        },
        {
         "customdata": [
          [
           "Lieferung von TAURUS-Marschflugkörpern an die Ukraine",
           "2024-01-17",
           "no",
           "Mario Czaja"
          ]
         ],
         "hovertemplate": "<b>%{customdata[3]}</b> (%{customdata[1]})<br>%{customdata[0]}<extra>%{customdata[2]}</extra>",
         "marker": {
          "color": "#aa0000",
          "line": {
           "color": "white",
           "width": 0.5
          }
         },
         "orientation": "h",
         "showlegend": false,
         "type": "bar",
         "x": [
          1
         ],
         "xaxis": "x3",
         "y": [
          75
         ],
         "yaxis": "y3"
        },
        {
         "customdata": [
          [
           "Veränderungen in der deutschen Außen- und Sicherheitspolitik erforderlich",
           "2024-02-22",
           "abstain",
           "Mario Czaja"
          ]
         ],
         "hovertemplate": "<b>%{customdata[3]}</b> (%{customdata[1]})<br>%{customdata[0]}<extra>%{customdata[2]}</extra>",
         "marker": {
          "color": "#000000",
          "line": {
           "color": "white",
           "width": 0.5
          }
         },
         "orientation": "h",
         "showlegend": false,
         "type": "bar",
         "x": [
          1
         ],
         "xaxis": "x3",
         "y": [
          90
         ],
         "yaxis": "y3"
        },
        {
         "customdata": [
          [
           "Suizidhilfegesetz",
           "2023-07-06",
           "yes",
           "Mark Helfrich"
          ]
         ],
         "hovertemplate": "<b>%{customdata[3]}</b> (%{customdata[1]})<br>%{customdata[0]}<extra>%{customdata[2]}</extra>",
         "marker": {
          "color": "#00aa00",
          "line": {
           "color": "white",
           "width": 0.5
          }
         },
         "orientation": "h",
         "showlegend": false,
         "type": "bar",
         "x": [
          1
         ],
         "xaxis": "x3",
         "y": [
          93
         ],
         "yaxis": "y3"
        },
        {
         "customdata": [
          [
           "Förderung der geschäftsmäßigen Sterbehilfe grundsätzlich verbieten",
           "2023-07-06",
           "no",
           "Mark Helfrich"
          ]
         ],
         "hovertemplate": "<b>%{customdata[3]}</b> (%{customdata[1]})<br>%{customdata[0]}<extra>%{customdata[2]}</extra>",
         "marker": {
          "color": "#aa0000",
          "line": {
           "color": "white",
           "width": 0.5
          }
         },
         "orientation": "h",
         "showlegend": false,
         "type": "bar",
         "x": [
          1
         ],
         "xaxis": "x3",
         "y": [
          12
         ],
         "yaxis": "y3"
        },
        {
         "customdata": [
          [
           "Förderung der geschäftsmäßigen Sterbehilfe grundsätzlich verbieten",
           "2023-07-06",
           "abstain",
           "Martina Englhardt-Kopf"
          ]
         ],
         "hovertemplate": "<b>%{customdata[3]}</b> (%{customdata[1]})<br>%{customdata[0]}<extra>%{customdata[2]}</extra>",
         "marker": {
          "color": "#000000",
          "line": {
           "color": "white",
           "width": 0.5
          }
         },
         "orientation": "h",
         "showlegend": false,
         "type": "bar",
         "x": [
          1
         ],
         "xaxis": "x3",
         "y": [
          12
         ],
         "yaxis": "y3"
        },
        {
         "customdata": [
          [
           "Einsetzung des Bürgerrats \"Ernährung im Wandel\"",
           "2023-05-10",
           "abstain",
           "Mathias Middelberg"
          ],
          [
           "Förderung der geschäftsmäßigen Sterbehilfe grundsätzlich verbieten",
           "2023-07-06",
           "abstain",
           "Mathias Middelberg"
          ]
         ],
         "hovertemplate": "<b>%{customdata[3]}</b> (%{customdata[1]})<br>%{customdata[0]}<extra>%{customdata[2]}</extra>",
         "marker": {
          "color": "#000000",
          "line": {
           "color": "white",
           "width": 0.5
          }
         },
         "orientation": "h",
         "showlegend": false,
         "type": "bar",
         "x": [
          1
         ],
         "xaxis": "x3",
         "y": [
          107,
          12
         ],
         "yaxis": "y3"
        },
        {
         "customdata": [
          [
           "Anhebung des Mindestlohns für Minijobs ",
           "2022-06-03",
           "no",
           "Max Straubinger"
          ],
          [
           "Beteiligung der Bundeswehr in Niger (EUMPM Niger)",
           "2023-04-28",
           "no",
           "Max Straubinger"
          ],
          [
           "Änderung des Erneuerbare-Energien-Gesetzes",
           "2024-04-26",
           "no",
           "Max Straubinger"
          ]
         ],
         "hovertemplate": "<b>%{customdata[3]}</b> (%{customdata[1]})<br>%{customdata[0]}<extra>%{customdata[2]}</extra>",
         "marker": {
          "color": "#aa0000",
          "line": {
           "color": "white",
           "width": 0.5
          }
         },
         "orientation": "h",
         "showlegend": false,
         "type": "bar",
         "x": [
          1
         ],
         "xaxis": "x3",
         "y": [
          71,
          22,
          60
         ],
         "yaxis": "y3"
        },
        {
         "customdata": [
          [
           "Chancen-Aufenthaltsrecht",
           "2022-12-02",
           "abstain",
           "Mechthild Heil"
          ]
         ],
         "hovertemplate": "<b>%{customdata[3]}</b> (%{customdata[1]})<br>%{customdata[0]}<extra>%{customdata[2]}</extra>",
         "marker": {
          "color": "#000000",
          "line": {
           "color": "white",
           "width": 0.5
          }
         },
         "orientation": "h",
         "showlegend": false,
         "type": "bar",
         "x": [
          1
         ],
         "xaxis": "x3",
         "y": [
          18
         ],
         "yaxis": "y3"
        },
        {
         "customdata": [
          [
           "Förderung der geschäftsmäßigen Sterbehilfe grundsätzlich verbieten",
           "2023-07-06",
           "no",
           "Melanie Bernstein"
          ]
         ],
         "hovertemplate": "<b>%{customdata[3]}</b> (%{customdata[1]})<br>%{customdata[0]}<extra>%{customdata[2]}</extra>",
         "marker": {
          "color": "#aa0000",
          "line": {
           "color": "white",
           "width": 0.5
          }
         },
         "orientation": "h",
         "showlegend": false,
         "type": "bar",
         "x": [
          1
         ],
         "xaxis": "x3",
         "y": [
          12
         ],
         "yaxis": "y3"
        },
        {
         "customdata": [
          [
           "Förderung der geschäftsmäßigen Sterbehilfe grundsätzlich verbieten",
           "2023-07-06",
           "no",
           "Michael Brand"
          ]
         ],
         "hovertemplate": "<b>%{customdata[3]}</b> (%{customdata[1]})<br>%{customdata[0]}<extra>%{customdata[2]}</extra>",
         "marker": {
          "color": "#aa0000",
          "line": {
           "color": "white",
           "width": 0.5
          }
         },
         "orientation": "h",
         "showlegend": false,
         "type": "bar",
         "x": [
          1
         ],
         "xaxis": "x3",
         "y": [
          12
         ],
         "yaxis": "y3"
        },
        {
         "customdata": [
          [
           "Rücktritt von Bundesinnenministerin Nancy Faeser",
           "2023-09-20",
           "abstain",
           "Michael Grosse-Brömer"
          ]
         ],
         "hovertemplate": "<b>%{customdata[3]}</b> (%{customdata[1]})<br>%{customdata[0]}<extra>%{customdata[2]}</extra>",
         "marker": {
          "color": "#000000",
          "line": {
           "color": "white",
           "width": 0.5
          }
         },
         "orientation": "h",
         "showlegend": false,
         "type": "bar",
         "x": [
          1
         ],
         "xaxis": "x3",
         "y": [
          61
         ],
         "yaxis": "y3"
        },
        {
         "customdata": [
          [
           "Entschließungsantrag DIE LINKE: Finanz­reform der gesetzlichen Krankenversicherung",
           "2022-10-20",
           "yes",
           "Michael Meister"
          ]
         ],
         "hovertemplate": "<b>%{customdata[3]}</b> (%{customdata[1]})<br>%{customdata[0]}<extra>%{customdata[2]}</extra>",
         "marker": {
          "color": "#00aa00",
          "line": {
           "color": "white",
           "width": 0.5
          }
         },
         "orientation": "h",
         "showlegend": false,
         "type": "bar",
         "x": [
          1
         ],
         "xaxis": "x3",
         "y": [
          39
         ],
         "yaxis": "y3"
        },
        {
         "customdata": [
          [
           "Chancen-Aufenthaltsrecht",
           "2022-12-02",
           "abstain",
           "Monika Grütters"
          ]
         ],
         "hovertemplate": "<b>%{customdata[3]}</b> (%{customdata[1]})<br>%{customdata[0]}<extra>%{customdata[2]}</extra>",
         "marker": {
          "color": "#000000",
          "line": {
           "color": "white",
           "width": 0.5
          }
         },
         "orientation": "h",
         "showlegend": false,
         "type": "bar",
         "x": [
          1
         ],
         "xaxis": "x3",
         "y": [
          18
         ],
         "yaxis": "y3"
        },
        {
         "customdata": [
          [
           "Förderung der geschäftsmäßigen Sterbehilfe grundsätzlich verbieten",
           "2023-07-06",
           "no",
           "Norbert Maria Altenkamp"
          ]
         ],
         "hovertemplate": "<b>%{customdata[3]}</b> (%{customdata[1]})<br>%{customdata[0]}<extra>%{customdata[2]}</extra>",
         "marker": {
          "color": "#aa0000",
          "line": {
           "color": "white",
           "width": 0.5
          }
         },
         "orientation": "h",
         "showlegend": false,
         "type": "bar",
         "x": [
          1
         ],
         "xaxis": "x3",
         "y": [
          12
         ],
         "yaxis": "y3"
        },
        {
         "customdata": [
          [
           "Chancen-Aufenthaltsrecht",
           "2022-12-02",
           "abstain",
           "Norbert Röttgen"
          ],
          [
           "Förderung der geschäftsmäßigen Sterbehilfe grundsätzlich verbieten",
           "2023-07-06",
           "abstain",
           "Norbert Röttgen"
          ]
         ],
         "hovertemplate": "<b>%{customdata[3]}</b> (%{customdata[1]})<br>%{customdata[0]}<extra>%{customdata[2]}</extra>",
         "marker": {
          "color": "#000000",
          "line": {
           "color": "white",
           "width": 0.5
          }
         },
         "orientation": "h",
         "showlegend": false,
         "type": "bar",
         "x": [
          1
         ],
         "xaxis": "x3",
         "y": [
          18,
          12
         ],
         "yaxis": "y3"
        },
        {
         "customdata": [
          [
           "Grundgesetzänderung (Artikel 87a)",
           "2022-06-03",
           "no",
           "Olav Gutting"
          ],
          [
           "Sondervermögen Bundeswehr",
           "2022-06-03",
           "no",
           "Olav Gutting"
          ]
         ],
         "hovertemplate": "<b>%{customdata[3]}</b> (%{customdata[1]})<br>%{customdata[0]}<extra>%{customdata[2]}</extra>",
         "marker": {
          "color": "#aa0000",
          "line": {
           "color": "white",
           "width": 0.5
          }
         },
         "orientation": "h",
         "showlegend": false,
         "type": "bar",
         "x": [
          1
         ],
         "xaxis": "x3",
         "y": [
          66,
          57
         ],
         "yaxis": "y3"
        },
        {
         "customdata": [
          [
           "Förderung der geschäftsmäßigen Sterbehilfe grundsätzlich verbieten",
           "2023-07-06",
           "no",
           "Patricia Lips"
          ]
         ],
         "hovertemplate": "<b>%{customdata[3]}</b> (%{customdata[1]})<br>%{customdata[0]}<extra>%{customdata[2]}</extra>",
         "marker": {
          "color": "#aa0000",
          "line": {
           "color": "white",
           "width": 0.5
          }
         },
         "orientation": "h",
         "showlegend": false,
         "type": "bar",
         "x": [
          1
         ],
         "xaxis": "x3",
         "y": [
          12
         ],
         "yaxis": "y3"
        },
        {
         "customdata": [
          [
           "Impfbereitschaft ohne allgemeine Impfpflicht erhöhen",
           "2022-04-07",
           "yes",
           "Peter Ramsauer"
          ]
         ],
         "hovertemplate": "<b>%{customdata[3]}</b> (%{customdata[1]})<br>%{customdata[0]}<extra>%{customdata[2]}</extra>",
         "marker": {
          "color": "#00aa00",
          "line": {
           "color": "white",
           "width": 0.5
          }
         },
         "orientation": "h",
         "showlegend": false,
         "type": "bar",
         "x": [
          1
         ],
         "xaxis": "x3",
         "y": [
          43
         ],
         "yaxis": "y3"
        },
        {
         "customdata": [
          [
           "Förderung der geschäftsmäßigen Sterbehilfe grundsätzlich verbieten",
           "2023-07-06",
           "no",
           "Peter Ramsauer"
          ],
          [
           "Änderung des Erneuerbare-Energien-Gesetzes",
           "2024-04-26",
           "no",
           "Peter Ramsauer"
          ]
         ],
         "hovertemplate": "<b>%{customdata[3]}</b> (%{customdata[1]})<br>%{customdata[0]}<extra>%{customdata[2]}</extra>",
         "marker": {
          "color": "#aa0000",
          "line": {
           "color": "white",
           "width": 0.5
          }
         },
         "orientation": "h",
         "showlegend": false,
         "type": "bar",
         "x": [
          1
         ],
         "xaxis": "x3",
         "y": [
          12,
          60
         ],
         "yaxis": "y3"
        },
        {
         "customdata": [
          [
           "Keine Lieferung von Taurus-Marschflugkörpern an die Ukraine (Beschlussempfehlung)",
           "2024-03-14",
           "abstain",
           "Peter Ramsauer"
          ]
         ],
         "hovertemplate": "<b>%{customdata[3]}</b> (%{customdata[1]})<br>%{customdata[0]}<extra>%{customdata[2]}</extra>",
         "marker": {
          "color": "#000000",
          "line": {
           "color": "white",
           "width": 0.5
          }
         },
         "orientation": "h",
         "showlegend": false,
         "type": "bar",
         "x": [
          1
         ],
         "xaxis": "x3",
         "y": [
          117
         ],
         "yaxis": "y3"
        },
        {
         "customdata": [
          [
           "Förderung der geschäftsmäßigen Sterbehilfe grundsätzlich verbieten",
           "2023-07-06",
           "no",
           "Philipp Amthor"
          ]
         ],
         "hovertemplate": "<b>%{customdata[3]}</b> (%{customdata[1]})<br>%{customdata[0]}<extra>%{customdata[2]}</extra>",
         "marker": {
          "color": "#aa0000",
          "line": {
           "color": "white",
           "width": 0.5
          }
         },
         "orientation": "h",
         "showlegend": false,
         "type": "bar",
         "x": [
          1
         ],
         "xaxis": "x3",
         "y": [
          12
         ],
         "yaxis": "y3"
        },
        {
         "customdata": [
          [
           "Einsetzung des Bürgerrats \"Ernährung im Wandel\"",
           "2023-05-10",
           "abstain",
           "Ralph Edelhäußer"
          ]
         ],
         "hovertemplate": "<b>%{customdata[3]}</b> (%{customdata[1]})<br>%{customdata[0]}<extra>%{customdata[2]}</extra>",
         "marker": {
          "color": "#000000",
          "line": {
           "color": "white",
           "width": 0.5
          }
         },
         "orientation": "h",
         "showlegend": false,
         "type": "bar",
         "x": [
          1
         ],
         "xaxis": "x3",
         "y": [
          107
         ],
         "yaxis": "y3"
        },
        {
         "customdata": [
          [
           "Förderung der geschäftsmäßigen Sterbehilfe grundsätzlich verbieten",
           "2023-07-06",
           "no",
           "Reinhard Brandl"
          ]
         ],
         "hovertemplate": "<b>%{customdata[3]}</b> (%{customdata[1]})<br>%{customdata[0]}<extra>%{customdata[2]}</extra>",
         "marker": {
          "color": "#aa0000",
          "line": {
           "color": "white",
           "width": 0.5
          }
         },
         "orientation": "h",
         "showlegend": false,
         "type": "bar",
         "x": [
          1
         ],
         "xaxis": "x3",
         "y": [
          12
         ],
         "yaxis": "y3"
        },
        {
         "customdata": [
          [
           "Suizidhilfegesetz",
           "2023-07-06",
           "yes",
           "Roderich Kiesewetter"
          ]
         ],
         "hovertemplate": "<b>%{customdata[3]}</b> (%{customdata[1]})<br>%{customdata[0]}<extra>%{customdata[2]}</extra>",
         "marker": {
          "color": "#00aa00",
          "line": {
           "color": "white",
           "width": 0.5
          }
         },
         "orientation": "h",
         "showlegend": false,
         "type": "bar",
         "x": [
          1
         ],
         "xaxis": "x3",
         "y": [
          93
         ],
         "yaxis": "y3"
        },
        {
         "customdata": [
          [
           "Chancen-Aufenthaltsrecht",
           "2022-12-02",
           "abstain",
           "Roderich Kiesewetter"
          ]
         ],
         "hovertemplate": "<b>%{customdata[3]}</b> (%{customdata[1]})<br>%{customdata[0]}<extra>%{customdata[2]}</extra>",
         "marker": {
          "color": "#000000",
          "line": {
           "color": "white",
           "width": 0.5
          }
         },
         "orientation": "h",
         "showlegend": false,
         "type": "bar",
         "x": [
          1
         ],
         "xaxis": "x3",
         "y": [
          18
         ],
         "yaxis": "y3"
        },
        {
         "customdata": [
          [
           "Chancen-Aufenthaltsrecht",
           "2022-12-02",
           "abstain",
           "Sabine Weiss"
          ],
          [
           "Förderung der geschäftsmäßigen Sterbehilfe grundsätzlich verbieten",
           "2023-07-06",
           "abstain",
           "Sabine Weiss"
          ]
         ],
         "hovertemplate": "<b>%{customdata[3]}</b> (%{customdata[1]})<br>%{customdata[0]}<extra>%{customdata[2]}</extra>",
         "marker": {
          "color": "#000000",
          "line": {
           "color": "white",
           "width": 0.5
          }
         },
         "orientation": "h",
         "showlegend": false,
         "type": "bar",
         "x": [
          1
         ],
         "xaxis": "x3",
         "y": [
          18,
          12
         ],
         "yaxis": "y3"
        },
        {
         "customdata": [
          [
           "Förderung der geschäftsmäßigen Sterbehilfe grundsätzlich verbieten",
           "2023-07-06",
           "no",
           "Sebastian Brehm"
          ]
         ],
         "hovertemplate": "<b>%{customdata[3]}</b> (%{customdata[1]})<br>%{customdata[0]}<extra>%{customdata[2]}</extra>",
         "marker": {
          "color": "#aa0000",
          "line": {
           "color": "white",
           "width": 0.5
          }
         },
         "orientation": "h",
         "showlegend": false,
         "type": "bar",
         "x": [
          1
         ],
         "xaxis": "x3",
         "y": [
          12
         ],
         "yaxis": "y3"
        },
        {
         "customdata": [
          [
           "Förderung der geschäftsmäßigen Sterbehilfe grundsätzlich verbieten",
           "2023-07-06",
           "no",
           "Sepp Müller"
          ]
         ],
         "hovertemplate": "<b>%{customdata[3]}</b> (%{customdata[1]})<br>%{customdata[0]}<extra>%{customdata[2]}</extra>",
         "marker": {
          "color": "#aa0000",
          "line": {
           "color": "white",
           "width": 0.5
          }
         },
         "orientation": "h",
         "showlegend": false,
         "type": "bar",
         "x": [
          1
         ],
         "xaxis": "x3",
         "y": [
          12
         ],
         "yaxis": "y3"
        },
        {
         "customdata": [
          [
           "Chancen-Aufenthaltsrecht",
           "2022-12-02",
           "abstain",
           "Serap Güler"
          ]
         ],
         "hovertemplate": "<b>%{customdata[3]}</b> (%{customdata[1]})<br>%{customdata[0]}<extra>%{customdata[2]}</extra>",
         "marker": {
          "color": "#000000",
          "line": {
           "color": "white",
           "width": 0.5
          }
         },
         "orientation": "h",
         "showlegend": false,
         "type": "bar",
         "x": [
          1
         ],
         "xaxis": "x3",
         "y": [
          18
         ],
         "yaxis": "y3"
        },
        {
         "customdata": [
          [
           "Etat des Bundeskanzlers und des Bundeskanzleramtes 2023",
           "2022-11-23",
           "abstain",
           "Silke Launert"
          ]
         ],
         "hovertemplate": "<b>%{customdata[3]}</b> (%{customdata[1]})<br>%{customdata[0]}<extra>%{customdata[2]}</extra>",
         "marker": {
          "color": "#000000",
          "line": {
           "color": "white",
           "width": 0.5
          }
         },
         "orientation": "h",
         "showlegend": false,
         "type": "bar",
         "x": [
          1
         ],
         "xaxis": "x3",
         "y": [
          143
         ],
         "yaxis": "y3"
        },
        {
         "customdata": [
          [
           "Untersuchungsausschuss \"Bekämpfung des Corona-Virus\" nicht einsetzen",
           "2023-04-19",
           "no",
           "Simone Borchardt"
          ],
          [
           "Förderung der geschäftsmäßigen Sterbehilfe grundsätzlich verbieten",
           "2023-07-06",
           "no",
           "Simone Borchardt"
          ]
         ],
         "hovertemplate": "<b>%{customdata[3]}</b> (%{customdata[1]})<br>%{customdata[0]}<extra>%{customdata[2]}</extra>",
         "marker": {
          "color": "#aa0000",
          "line": {
           "color": "white",
           "width": 0.5
          }
         },
         "orientation": "h",
         "showlegend": false,
         "type": "bar",
         "x": [
          1
         ],
         "xaxis": "x3",
         "y": [
          41,
          12
         ],
         "yaxis": "y3"
        },
        {
         "customdata": [
          [
           "Einsetzung des Bürgerrats \"Ernährung im Wandel\"",
           "2023-05-10",
           "abstain",
           "Stefan Müller"
          ]
         ],
         "hovertemplate": "<b>%{customdata[3]}</b> (%{customdata[1]})<br>%{customdata[0]}<extra>%{customdata[2]}</extra>",
         "marker": {
          "color": "#000000",
          "line": {
           "color": "white",
           "width": 0.5
          }
         },
         "orientation": "h",
         "showlegend": false,
         "type": "bar",
         "x": [
          1
         ],
         "xaxis": "x3",
         "y": [
          107
         ],
         "yaxis": "y3"
        },
        {
         "customdata": [
          [
           "Chancen-Aufenthaltsrecht",
           "2022-12-02",
           "abstain",
           "Stefan Nacke"
          ]
         ],
         "hovertemplate": "<b>%{customdata[3]}</b> (%{customdata[1]})<br>%{customdata[0]}<extra>%{customdata[2]}</extra>",
         "marker": {
          "color": "#000000",
          "line": {
           "color": "white",
           "width": 0.5
          }
         },
         "orientation": "h",
         "showlegend": false,
         "type": "bar",
         "x": [
          1
         ],
         "xaxis": "x3",
         "y": [
          18
         ],
         "yaxis": "y3"
        },
        {
         "customdata": [
          [
           "Förderung der geschäftsmäßigen Sterbehilfe grundsätzlich verbieten",
           "2023-07-06",
           "no",
           "Thomas Bareiß"
          ]
         ],
         "hovertemplate": "<b>%{customdata[3]}</b> (%{customdata[1]})<br>%{customdata[0]}<extra>%{customdata[2]}</extra>",
         "marker": {
          "color": "#aa0000",
          "line": {
           "color": "white",
           "width": 0.5
          }
         },
         "orientation": "h",
         "showlegend": false,
         "type": "bar",
         "x": [
          1
         ],
         "xaxis": "x3",
         "y": [
          12
         ],
         "yaxis": "y3"
        },
        {
         "customdata": [
          [
           "Chancen-Aufenthaltsrecht",
           "2022-12-02",
           "abstain",
           "Thomas Rachel"
          ]
         ],
         "hovertemplate": "<b>%{customdata[3]}</b> (%{customdata[1]})<br>%{customdata[0]}<extra>%{customdata[2]}</extra>",
         "marker": {
          "color": "#000000",
          "line": {
           "color": "white",
           "width": 0.5
          }
         },
         "orientation": "h",
         "showlegend": false,
         "type": "bar",
         "x": [
          1
         ],
         "xaxis": "x3",
         "y": [
          18
         ],
         "yaxis": "y3"
        },
        {
         "customdata": [
          [
           "Chancen-Aufenthaltsrecht",
           "2022-12-02",
           "abstain",
           "Thomas Röwekamp"
          ]
         ],
         "hovertemplate": "<b>%{customdata[3]}</b> (%{customdata[1]})<br>%{customdata[0]}<extra>%{customdata[2]}</extra>",
         "marker": {
          "color": "#000000",
          "line": {
           "color": "white",
           "width": 0.5
          }
         },
         "orientation": "h",
         "showlegend": false,
         "type": "bar",
         "x": [
          1
         ],
         "xaxis": "x3",
         "y": [
          18
         ],
         "yaxis": "y3"
        },
        {
         "customdata": [
          [
           "AfD-Antrag: Einrichtungsbezogene Impfpflicht abschaffen",
           "2022-05-19",
           "yes",
           "Tobias Winkler"
          ]
         ],
         "hovertemplate": "<b>%{customdata[3]}</b> (%{customdata[1]})<br>%{customdata[0]}<extra>%{customdata[2]}</extra>",
         "marker": {
          "color": "#00aa00",
          "line": {
           "color": "white",
           "width": 0.5
          }
         },
         "orientation": "h",
         "showlegend": false,
         "type": "bar",
         "x": [
          1
         ],
         "xaxis": "x3",
         "y": [
          56
         ],
         "yaxis": "y3"
        },
        {
         "customdata": [
          [
           "Förderung der geschäftsmäßigen Sterbehilfe grundsätzlich verbieten",
           "2023-07-06",
           "abstain",
           "Tobias Winkler"
          ]
         ],
         "hovertemplate": "<b>%{customdata[3]}</b> (%{customdata[1]})<br>%{customdata[0]}<extra>%{customdata[2]}</extra>",
         "marker": {
          "color": "#000000",
          "line": {
           "color": "white",
           "width": 0.5
          }
         },
         "orientation": "h",
         "showlegend": false,
         "type": "bar",
         "x": [
          1
         ],
         "xaxis": "x3",
         "y": [
          12
         ],
         "yaxis": "y3"
        },
        {
         "customdata": [
          [
           "Impfpflicht für bestimmte Berufsgruppen und weitere Änderungen im Infektionsschutzgesetz",
           "2021-12-10",
           "abstain",
           "Volker Mayer-Lay"
          ]
         ],
         "hovertemplate": "<b>%{customdata[3]}</b> (%{customdata[1]})<br>%{customdata[0]}<extra>%{customdata[2]}</extra>",
         "marker": {
          "color": "#000000",
          "line": {
           "color": "white",
           "width": 0.5
          }
         },
         "orientation": "h",
         "showlegend": false,
         "type": "bar",
         "x": [
          1
         ],
         "xaxis": "x3",
         "y": [
          54
         ],
         "yaxis": "y3"
        },
        {
         "customdata": [
          [
           "Einsetzung des Bürgerrats \"Ernährung im Wandel\"",
           "2023-05-10",
           "abstain",
           "Wolfgang Schäuble"
          ],
          [
           "Förderung der geschäftsmäßigen Sterbehilfe grundsätzlich verbieten",
           "2023-07-06",
           "abstain",
           "Wolfgang Schäuble"
          ]
         ],
         "hovertemplate": "<b>%{customdata[3]}</b> (%{customdata[1]})<br>%{customdata[0]}<extra>%{customdata[2]}</extra>",
         "marker": {
          "color": "#000000",
          "line": {
           "color": "white",
           "width": 0.5
          }
         },
         "orientation": "h",
         "showlegend": false,
         "type": "bar",
         "x": [
          1
         ],
         "xaxis": "x3",
         "y": [
          107,
          12
         ],
         "yaxis": "y3"
        },
        {
         "customdata": [
          [
           "Förderung der geschäftsmäßigen Sterbehilfe grundsätzlich verbieten",
           "2023-07-06",
           "no",
           "Yvonne Magwas"
          ]
         ],
         "hovertemplate": "<b>%{customdata[3]}</b> (%{customdata[1]})<br>%{customdata[0]}<extra>%{customdata[2]}</extra>",
         "marker": {
          "color": "#aa0000",
          "line": {
           "color": "white",
           "width": 0.5
          }
         },
         "orientation": "h",
         "showlegend": false,
         "type": "bar",
         "x": [
          1
         ],
         "xaxis": "x3",
         "y": [
          12
         ],
         "yaxis": "y3"
        },
        {
         "customdata": [
          [
           "Chancen-Aufenthaltsrecht",
           "2022-12-02",
           "abstain",
           "Yvonne Magwas"
          ],
          [
           "Einsetzung des Bürgerrats \"Ernährung im Wandel\"",
           "2023-05-10",
           "abstain",
           "Yvonne Magwas"
          ]
         ],
         "hovertemplate": "<b>%{customdata[3]}</b> (%{customdata[1]})<br>%{customdata[0]}<extra>%{customdata[2]}</extra>",
         "marker": {
          "color": "#000000",
          "line": {
           "color": "white",
           "width": 0.5
          }
         },
         "orientation": "h",
         "showlegend": false,
         "type": "bar",
         "x": [
          1
         ],
         "xaxis": "x3",
         "y": [
          18,
          107
         ],
         "yaxis": "y3"
        },
        {
         "marker": {
          "color": "#aa0000"
         },
         "mode": "markers",
         "showlegend": false,
         "type": "scatter",
         "x": [
          0,
          0,
          0,
          0,
          0,
          0,
          0,
          0,
          0,
          0,
          0,
          0,
          0,
          0,
          0,
          0,
          0,
          0,
          0,
          0,
          0,
          0,
          0,
          0,
          0,
          0,
          0,
          0,
          0,
          0,
          0,
          0,
          0,
          0,
          0
         ],
         "xaxis": "x2",
         "y": [
          11,
          12,
          14,
          27,
          30,
          32,
          39,
          40,
          43,
          48,
          55,
          56,
          61,
          63,
          65,
          69,
          70,
          75,
          77,
          81,
          84,
          88,
          90,
          92,
          93,
          95,
          96,
          102,
          103,
          106,
          110,
          116,
          126,
          131,
          142
         ],
         "yaxis": "y2"
        },
        {
         "marker": {
          "color": "#00aa00"
         },
         "mode": "markers",
         "showlegend": false,
         "type": "scatter",
         "x": [
          0,
          0,
          0,
          0,
          0,
          0,
          0,
          0,
          0,
          0,
          0,
          0,
          0,
          0,
          0,
          0,
          0,
          0,
          0,
          0,
          0,
          0,
          0,
          0,
          0,
          0,
          0,
          0,
          0,
          0,
          0,
          0,
          0,
          0,
          0,
          0,
          0,
          0,
          0,
          0,
          0,
          0,
          0,
          0,
          0,
          0,
          0,
          0,
          0,
          0,
          0,
          0,
          0,
          0,
          0,
          0,
          0,
          0,
          0,
          0,
          0,
          0,
          0,
          0,
          0,
          0,
          0,
          0,
          0,
          0,
          0,
          0,
          0,
          0,
          0,
          0,
          0,
          0,
          0,
          0,
          0,
          0,
          0,
          0,
          0,
          0,
          0,
          0,
          0,
          0,
          0,
          0,
          0,
          0,
          0,
          0,
          0,
          0,
          0,
          0,
          0,
          0,
          0,
          0,
          0,
          0,
          0,
          0
         ],
         "xaxis": "x2",
         "y": [
          1,
          2,
          3,
          4,
          5,
          6,
          7,
          8,
          9,
          10,
          13,
          15,
          16,
          17,
          18,
          19,
          20,
          21,
          22,
          23,
          24,
          25,
          26,
          28,
          29,
          31,
          33,
          34,
          35,
          36,
          37,
          38,
          41,
          42,
          44,
          45,
          46,
          47,
          49,
          50,
          51,
          52,
          53,
          54,
          57,
          58,
          59,
          60,
          62,
          64,
          66,
          67,
          68,
          71,
          72,
          73,
          74,
          76,
          78,
          79,
          80,
          82,
          83,
          85,
          86,
          87,
          89,
          91,
          94,
          97,
          98,
          99,
          100,
          101,
          104,
          105,
          107,
          108,
          109,
          111,
          112,
          113,
          114,
          115,
          117,
          118,
          119,
          120,
          121,
          122,
          123,
          124,
          125,
          127,
          128,
          129,
          130,
          132,
          133,
          134,
          135,
          136,
          137,
          138,
          139,
          140,
          141,
          143
         ],
         "yaxis": "y2"
        }
       ],
       "layout": {
        "annotations": [
         {
          "font": {
           "size": 18
          },
          "showarrow": false,
          "text": "<= Fraktionslinie",
          "x": -5,
          "xanchor": "right",
          "xref": "x",
          "y": 1,
          "yanchor": "bottom",
          "yref": "y domain"
         },
         {
          "font": {
           "size": 18
          },
          "showarrow": false,
          "text": "Dissens =>",
          "x": 5,
          "xanchor": "left",
          "xref": "x3",
          "y": 1,
          "yanchor": "bottom",
          "yref": "y3 domain"
         }
        ],
        "barmode": "relative",
        "height": 1500,
        "margin": {
         "b": 0,
         "l": 0,
         "r": 0,
         "t": 30
        },
        "plot_bgcolor": "#dddddd",
        "shapes": [
         {
          "fillcolor": "white",
          "layer": "below",
          "line": {
           "width": 0
          },
          "type": "rect",
          "x0": 0,
          "x1": 1,
          "xref": "x2 domain",
          "y0": 0,
          "y1": 1,
          "yref": "y2 domain"
         }
        ],
        "template": {
         "data": {
          "bar": [
           {
            "error_x": {
             "color": "#2a3f5f"
            },
            "error_y": {
             "color": "#2a3f5f"
            },
            "marker": {
             "line": {
              "color": "#E5ECF6",
              "width": 0.5
             },
             "pattern": {
              "fillmode": "overlay",
              "size": 10,
              "solidity": 0.2
             }
            },
            "type": "bar"
           }
          ],
          "barpolar": [
           {
            "marker": {
             "line": {
              "color": "#E5ECF6",
              "width": 0.5
             },
             "pattern": {
              "fillmode": "overlay",
              "size": 10,
              "solidity": 0.2
             }
            },
            "type": "barpolar"
           }
          ],
          "carpet": [
           {
            "aaxis": {
             "endlinecolor": "#2a3f5f",
             "gridcolor": "white",
             "linecolor": "white",
             "minorgridcolor": "white",
             "startlinecolor": "#2a3f5f"
            },
            "baxis": {
             "endlinecolor": "#2a3f5f",
             "gridcolor": "white",
             "linecolor": "white",
             "minorgridcolor": "white",
             "startlinecolor": "#2a3f5f"
            },
            "type": "carpet"
           }
          ],
          "choropleth": [
           {
            "colorbar": {
             "outlinewidth": 0,
             "ticks": ""
            },
            "type": "choropleth"
           }
          ],
          "contour": [
           {
            "colorbar": {
             "outlinewidth": 0,
             "ticks": ""
            },
            "colorscale": [
             [
              0,
              "#0d0887"
             ],
             [
              0.1111111111111111,
              "#46039f"
             ],
             [
              0.2222222222222222,
              "#7201a8"
             ],
             [
              0.3333333333333333,
              "#9c179e"
             ],
             [
              0.4444444444444444,
              "#bd3786"
             ],
             [
              0.5555555555555556,
              "#d8576b"
             ],
             [
              0.6666666666666666,
              "#ed7953"
             ],
             [
              0.7777777777777778,
              "#fb9f3a"
             ],
             [
              0.8888888888888888,
              "#fdca26"
             ],
             [
              1,
              "#f0f921"
             ]
            ],
            "type": "contour"
           }
          ],
          "contourcarpet": [
           {
            "colorbar": {
             "outlinewidth": 0,
             "ticks": ""
            },
            "type": "contourcarpet"
           }
          ],
          "heatmap": [
           {
            "colorbar": {
             "outlinewidth": 0,
             "ticks": ""
            },
            "colorscale": [
             [
              0,
              "#0d0887"
             ],
             [
              0.1111111111111111,
              "#46039f"
             ],
             [
              0.2222222222222222,
              "#7201a8"
             ],
             [
              0.3333333333333333,
              "#9c179e"
             ],
             [
              0.4444444444444444,
              "#bd3786"
             ],
             [
              0.5555555555555556,
              "#d8576b"
             ],
             [
              0.6666666666666666,
              "#ed7953"
             ],
             [
              0.7777777777777778,
              "#fb9f3a"
             ],
             [
              0.8888888888888888,
              "#fdca26"
             ],
             [
              1,
              "#f0f921"
             ]
            ],
            "type": "heatmap"
           }
          ],
          "heatmapgl": [
           {
            "colorbar": {
             "outlinewidth": 0,
             "ticks": ""
            },
            "colorscale": [
             [
              0,
              "#0d0887"
             ],
             [
              0.1111111111111111,
              "#46039f"
             ],
             [
              0.2222222222222222,
              "#7201a8"
             ],
             [
              0.3333333333333333,
              "#9c179e"
             ],
             [
              0.4444444444444444,
              "#bd3786"
             ],
             [
              0.5555555555555556,
              "#d8576b"
             ],
             [
              0.6666666666666666,
              "#ed7953"
             ],
             [
              0.7777777777777778,
              "#fb9f3a"
             ],
             [
              0.8888888888888888,
              "#fdca26"
             ],
             [
              1,
              "#f0f921"
             ]
            ],
            "type": "heatmapgl"
           }
          ],
          "histogram": [
           {
            "marker": {
             "pattern": {
              "fillmode": "overlay",
              "size": 10,
              "solidity": 0.2
             }
            },
            "type": "histogram"
           }
          ],
          "histogram2d": [
           {
            "colorbar": {
             "outlinewidth": 0,
             "ticks": ""
            },
            "colorscale": [
             [
              0,
              "#0d0887"
             ],
             [
              0.1111111111111111,
              "#46039f"
             ],
             [
              0.2222222222222222,
              "#7201a8"
             ],
             [
              0.3333333333333333,
              "#9c179e"
             ],
             [
              0.4444444444444444,
              "#bd3786"
             ],
             [
              0.5555555555555556,
              "#d8576b"
             ],
             [
              0.6666666666666666,
              "#ed7953"
             ],
             [
              0.7777777777777778,
              "#fb9f3a"
             ],
             [
              0.8888888888888888,
              "#fdca26"
             ],
             [
              1,
              "#f0f921"
             ]
            ],
            "type": "histogram2d"
           }
          ],
          "histogram2dcontour": [
           {
            "colorbar": {
             "outlinewidth": 0,
             "ticks": ""
            },
            "colorscale": [
             [
              0,
              "#0d0887"
             ],
             [
              0.1111111111111111,
              "#46039f"
             ],
             [
              0.2222222222222222,
              "#7201a8"
             ],
             [
              0.3333333333333333,
              "#9c179e"
             ],
             [
              0.4444444444444444,
              "#bd3786"
             ],
             [
              0.5555555555555556,
              "#d8576b"
             ],
             [
              0.6666666666666666,
              "#ed7953"
             ],
             [
              0.7777777777777778,
              "#fb9f3a"
             ],
             [
              0.8888888888888888,
              "#fdca26"
             ],
             [
              1,
              "#f0f921"
             ]
            ],
            "type": "histogram2dcontour"
           }
          ],
          "mesh3d": [
           {
            "colorbar": {
             "outlinewidth": 0,
             "ticks": ""
            },
            "type": "mesh3d"
           }
          ],
          "parcoords": [
           {
            "line": {
             "colorbar": {
              "outlinewidth": 0,
              "ticks": ""
             }
            },
            "type": "parcoords"
           }
          ],
          "pie": [
           {
            "automargin": true,
            "type": "pie"
           }
          ],
          "scatter": [
           {
            "fillpattern": {
             "fillmode": "overlay",
             "size": 10,
             "solidity": 0.2
            },
            "type": "scatter"
           }
          ],
          "scatter3d": [
           {
            "line": {
             "colorbar": {
              "outlinewidth": 0,
              "ticks": ""
             }
            },
            "marker": {
             "colorbar": {
              "outlinewidth": 0,
              "ticks": ""
             }
            },
            "type": "scatter3d"
           }
          ],
          "scattercarpet": [
           {
            "marker": {
             "colorbar": {
              "outlinewidth": 0,
              "ticks": ""
             }
            },
            "type": "scattercarpet"
           }
          ],
          "scattergeo": [
           {
            "marker": {
             "colorbar": {
              "outlinewidth": 0,
              "ticks": ""
             }
            },
            "type": "scattergeo"
           }
          ],
          "scattergl": [
           {
            "marker": {
             "colorbar": {
              "outlinewidth": 0,
              "ticks": ""
             }
            },
            "type": "scattergl"
           }
          ],
          "scattermapbox": [
           {
            "marker": {
             "colorbar": {
              "outlinewidth": 0,
              "ticks": ""
             }
            },
            "type": "scattermapbox"
           }
          ],
          "scatterpolar": [
           {
            "marker": {
             "colorbar": {
              "outlinewidth": 0,
              "ticks": ""
             }
            },
            "type": "scatterpolar"
           }
          ],
          "scatterpolargl": [
           {
            "marker": {
             "colorbar": {
              "outlinewidth": 0,
              "ticks": ""
             }
            },
            "type": "scatterpolargl"
           }
          ],
          "scatterternary": [
           {
            "marker": {
             "colorbar": {
              "outlinewidth": 0,
              "ticks": ""
             }
            },
            "type": "scatterternary"
           }
          ],
          "surface": [
           {
            "colorbar": {
             "outlinewidth": 0,
             "ticks": ""
            },
            "colorscale": [
             [
              0,
              "#0d0887"
             ],
             [
              0.1111111111111111,
              "#46039f"
             ],
             [
              0.2222222222222222,
              "#7201a8"
             ],
             [
              0.3333333333333333,
              "#9c179e"
             ],
             [
              0.4444444444444444,
              "#bd3786"
             ],
             [
              0.5555555555555556,
              "#d8576b"
             ],
             [
              0.6666666666666666,
              "#ed7953"
             ],
             [
              0.7777777777777778,
              "#fb9f3a"
             ],
             [
              0.8888888888888888,
              "#fdca26"
             ],
             [
              1,
              "#f0f921"
             ]
            ],
            "type": "surface"
           }
          ],
          "table": [
           {
            "cells": {
             "fill": {
              "color": "#EBF0F8"
             },
             "line": {
              "color": "white"
             }
            },
            "header": {
             "fill": {
              "color": "#C8D4E3"
             },
             "line": {
              "color": "white"
             }
            },
            "type": "table"
           }
          ]
         },
         "layout": {
          "annotationdefaults": {
           "arrowcolor": "#2a3f5f",
           "arrowhead": 0,
           "arrowwidth": 1
          },
          "autotypenumbers": "strict",
          "coloraxis": {
           "colorbar": {
            "outlinewidth": 0,
            "ticks": ""
           }
          },
          "colorscale": {
           "diverging": [
            [
             0,
             "#8e0152"
            ],
            [
             0.1,
             "#c51b7d"
            ],
            [
             0.2,
             "#de77ae"
            ],
            [
             0.3,
             "#f1b6da"
            ],
            [
             0.4,
             "#fde0ef"
            ],
            [
             0.5,
             "#f7f7f7"
            ],
            [
             0.6,
             "#e6f5d0"
            ],
            [
             0.7,
             "#b8e186"
            ],
            [
             0.8,
             "#7fbc41"
            ],
            [
             0.9,
             "#4d9221"
            ],
            [
             1,
             "#276419"
            ]
           ],
           "sequential": [
            [
             0,
             "#0d0887"
            ],
            [
             0.1111111111111111,
             "#46039f"
            ],
            [
             0.2222222222222222,
             "#7201a8"
            ],
            [
             0.3333333333333333,
             "#9c179e"
            ],
            [
             0.4444444444444444,
             "#bd3786"
            ],
            [
             0.5555555555555556,
             "#d8576b"
            ],
            [
             0.6666666666666666,
             "#ed7953"
            ],
            [
             0.7777777777777778,
             "#fb9f3a"
            ],
            [
             0.8888888888888888,
             "#fdca26"
            ],
            [
             1,
             "#f0f921"
            ]
           ],
           "sequentialminus": [
            [
             0,
             "#0d0887"
            ],
            [
             0.1111111111111111,
             "#46039f"
            ],
            [
             0.2222222222222222,
             "#7201a8"
            ],
            [
             0.3333333333333333,
             "#9c179e"
            ],
            [
             0.4444444444444444,
             "#bd3786"
            ],
            [
             0.5555555555555556,
             "#d8576b"
            ],
            [
             0.6666666666666666,
             "#ed7953"
            ],
            [
             0.7777777777777778,
             "#fb9f3a"
            ],
            [
             0.8888888888888888,
             "#fdca26"
            ],
            [
             1,
             "#f0f921"
            ]
           ]
          },
          "colorway": [
           "#636efa",
           "#EF553B",
           "#00cc96",
           "#ab63fa",
           "#FFA15A",
           "#19d3f3",
           "#FF6692",
           "#B6E880",
           "#FF97FF",
           "#FECB52"
          ],
          "font": {
           "color": "#2a3f5f"
          },
          "geo": {
           "bgcolor": "white",
           "lakecolor": "white",
           "landcolor": "#E5ECF6",
           "showlakes": true,
           "showland": true,
           "subunitcolor": "white"
          },
          "hoverlabel": {
           "align": "left"
          },
          "hovermode": "closest",
          "mapbox": {
           "style": "light"
          },
          "paper_bgcolor": "white",
          "plot_bgcolor": "#E5ECF6",
          "polar": {
           "angularaxis": {
            "gridcolor": "white",
            "linecolor": "white",
            "ticks": ""
           },
           "bgcolor": "#E5ECF6",
           "radialaxis": {
            "gridcolor": "white",
            "linecolor": "white",
            "ticks": ""
           }
          },
          "scene": {
           "xaxis": {
            "backgroundcolor": "#E5ECF6",
            "gridcolor": "white",
            "gridwidth": 2,
            "linecolor": "white",
            "showbackground": true,
            "ticks": "",
            "zerolinecolor": "white"
           },
           "yaxis": {
            "backgroundcolor": "#E5ECF6",
            "gridcolor": "white",
            "gridwidth": 2,
            "linecolor": "white",
            "showbackground": true,
            "ticks": "",
            "zerolinecolor": "white"
           },
           "zaxis": {
            "backgroundcolor": "#E5ECF6",
            "gridcolor": "white",
            "gridwidth": 2,
            "linecolor": "white",
            "showbackground": true,
            "ticks": "",
            "zerolinecolor": "white"
           }
          },
          "shapedefaults": {
           "line": {
            "color": "#2a3f5f"
           }
          },
          "ternary": {
           "aaxis": {
            "gridcolor": "white",
            "linecolor": "white",
            "ticks": ""
           },
           "baxis": {
            "gridcolor": "white",
            "linecolor": "white",
            "ticks": ""
           },
           "bgcolor": "#E5ECF6",
           "caxis": {
            "gridcolor": "white",
            "linecolor": "white",
            "ticks": ""
           }
          },
          "title": {
           "x": 0.05
          },
          "xaxis": {
           "automargin": true,
           "gridcolor": "white",
           "linecolor": "white",
           "ticks": "",
           "title": {
            "standoff": 15
           },
           "zerolinecolor": "white",
           "zerolinewidth": 2
          },
          "yaxis": {
           "automargin": true,
           "gridcolor": "white",
           "linecolor": "white",
           "ticks": "",
           "title": {
            "standoff": 15
           },
           "zerolinecolor": "white",
           "zerolinewidth": 2
          }
         }
        },
        "width": 1200,
        "xaxis": {
         "anchor": "y",
         "domain": [
          0,
          0.8242234947076176
         ],
         "showgrid": false,
         "showticklabels": false,
         "zeroline": false
        },
        "xaxis2": {
         "anchor": "y2",
         "domain": [
          0.8242234947076176,
          0.8438313378448725
         ],
         "showgrid": false,
         "showticklabels": false,
         "zeroline": false
        },
        "xaxis3": {
         "anchor": "y3",
         "domain": [
          0.8438313378448725,
          1
         ],
         "showgrid": false,
         "showticklabels": false,
         "zeroline": false
        },
        "yaxis": {
         "anchor": "x",
         "domain": [
          0,
          1
         ],
         "range": [
          0.5,
          143.5
         ],
         "showgrid": false,
         "showticklabels": false,
         "zeroline": false
        },
        "yaxis2": {
         "anchor": "x2",
         "domain": [
          0,
          1
         ],
         "matches": "y",
         "range": [
          0.5,
          143.5
         ],
         "showgrid": false,
         "showticklabels": false,
         "zeroline": false
        },
        "yaxis3": {
         "anchor": "x3",
         "domain": [
          0,
          1
         ],
         "matches": "y",
         "range": [
          0.5,
          143.5
         ],
         "showgrid": false,
         "showticklabels": false,
         "zeroline": false
        }
       }
      }
     },
     "metadata": {},
     "output_type": "display_data"
    }
   ],
   "source": [
    "votes_opl = votes_plot.loc[votes_plot.on_party_line]\n",
    "votes_opl = votes_opl.groupby(\"y\").agg(\"first\").reset_index()\n",
    "votes_dissent = votes_plot.loc[~votes_plot.on_party_line]\n",
    "parliament_vote = votes_plot.groupby(\"y\").parliament_vote.agg(\"first\").to_frame().reset_index()\n",
    "parliament_vote[\"x\"] = 0\n",
    "\n",
    "fig = make_subplots(\n",
    "    cols=3,\n",
    "    rows=1,\n",
    "    column_widths=[panel1_xmin, panel2_width, panel3_xmax],\n",
    "    horizontal_spacing=.0,\n",
    "    shared_yaxes=True,\n",
    ")\n",
    "\n",
    "# single bars for the fraction majority vote:\n",
    "for vote, grp in votes_opl.groupby(\"vote\", observed=True):\n",
    "    \n",
    "    fig.add_trace(\n",
    "        go.Bar(\n",
    "            orientation=\"h\",\n",
    "            y=grp.y,\n",
    "            x=-grp.unanimity,\n",
    "            marker=dict(\n",
    "                line_width=0,\n",
    "                # line_color=\"white\",\n",
    "                color=vote_map[vote],\n",
    "            ),\n",
    "            showlegend=False,\n",
    "            customdata=grp[[\"label\", \"date\"]],\n",
    "            hovertemplate=\"%{customdata[0]}<extra></extra>\",\n",
    "        ),\n",
    "        col=1, row=1\n",
    "    )\n",
    "\n",
    "# individual markers for each dissenter:\n",
    "for (name, vote), grp in votes_dissent.groupby([\"name\", \"vote\"], observed=True):\n",
    "\n",
    "    fig.add_trace(\n",
    "        go.Bar(\n",
    "            orientation=\"h\",\n",
    "            y=grp.y,\n",
    "            x=[1],\n",
    "            marker=dict(\n",
    "                line_width=.5,\n",
    "                line_color=\"white\",\n",
    "                color=vote_map[vote],\n",
    "            ),\n",
    "            showlegend=False,\n",
    "            customdata=grp[[\"label\", \"date\", \"vote\", \"name\"]],\n",
    "            hovertemplate=\"<b>%{customdata[3]}</b> (%{customdata[1]})<br>%{customdata[0]}<extra>%{customdata[2]}</extra>\",\n",
    "        ),\n",
    "        col=3, row=1\n",
    "    )\n",
    "\n",
    "# overall result of each vote:\n",
    "for vote, grp in parliament_vote.groupby(\"parliament_vote\"):\n",
    "\n",
    "    fig.add_trace(\n",
    "        go.Scatter(\n",
    "            mode=\"markers\",\n",
    "            y=grp.y,\n",
    "            x=grp.x,\n",
    "            marker_color=vote_map[vote],\n",
    "            showlegend=False,\n",
    "        ),\n",
    "        col=2, row=1,\n",
    "    )\n",
    "\n",
    "fig.add_annotation(\n",
    "    text=\"<= Fraktionslinie\",\n",
    "    x=-5, y=1,\n",
    "    xanchor=\"right\", xref=\"x\",\n",
    "    yanchor=\"bottom\", yref=\"y domain\",\n",
    "    showarrow=False,\n",
    "    font=dict(size=18),\n",
    "    col=1, row=1,\n",
    ")\n",
    "\n",
    "fig.add_annotation(\n",
    "    text=\"Dissens =>\",\n",
    "    x=5, y=1,\n",
    "    xanchor=\"left\", xref=\"x\",\n",
    "    yanchor=\"bottom\", yref=\"y3 domain\",\n",
    "    showarrow=False,\n",
    "    font=dict(size=18),\n",
    "    col=3, row=1,\n",
    ")\n",
    "\n",
    "# white bg for parliamentary vote:\n",
    "fig.add_shape(\n",
    "    type=\"rect\",\n",
    "    x0=0, x1=1, xref=\"x2 domain\",\n",
    "    y0=0, y1=1, yref=\"y2 domain\",\n",
    "    col=2, row=1,\n",
    "    line_width=0,\n",
    "    fillcolor=\"white\",\n",
    "    layer=\"below\",\n",
    ")\n",
    "\n",
    "fig.update_layout(\n",
    "    barmode=\"relative\",\n",
    "    width=1200,\n",
    "    height=1500,\n",
    "    plot_bgcolor=\"#dddddd\",\n",
    "    margin=dict(t=30, r=0, b=0, l=0),\n",
    ")\n",
    "\n",
    "fig.update_xaxes(\n",
    "    showticklabels=False,\n",
    "    showgrid=False,\n",
    "    zeroline=False,\n",
    ")\n",
    "\n",
    "fig.update_yaxes(\n",
    "    showticklabels=False,\n",
    "    showgrid=False,\n",
    "    zeroline=False,\n",
    "    range=[.5, height + .5]\n",
    ")\n"
   ]
  }
 ],
 "metadata": {
  "kernelspec": {
   "display_name": ".venv",
   "language": "python",
   "name": "python3"
  },
  "language_info": {
   "codemirror_mode": {
    "name": "ipython",
    "version": 3
   },
   "file_extension": ".py",
   "mimetype": "text/x-python",
   "name": "python",
   "nbconvert_exporter": "python",
   "pygments_lexer": "ipython3",
   "version": "3.12.4"
  }
 },
 "nbformat": 4,
 "nbformat_minor": 2
}
