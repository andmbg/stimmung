{
 "cells": [
  {
   "cell_type": "code",
   "execution_count": null,
   "metadata": {},
   "outputs": [],
   "source": [
    "import sys\n",
    "import pandas as pd\n",
    "import plotly.express as px\n",
    "import plotly.graph_objects as go\n",
    "from plotly.subplots import make_subplots\n",
    "\n",
    "from bundestag.src.data.ensure_data import get_votes\n",
    "from bundestag.src.viz.visualize import get_fig_votes"
   ]
  },
  {
   "cell_type": "code",
   "execution_count": null,
   "metadata": {},
   "outputs": [],
   "source": [
    "votes = get_votes()\n",
    "votes"
   ]
  },
  {
   "cell_type": "code",
   "execution_count": null,
   "metadata": {},
   "outputs": [],
   "source": [
    "vote_map = {\n",
    "    \"yes\": \"#00aa00\",\n",
    "    \"no\": \"#aa0000\",\n",
    "    \"abstain\": \"#000000\",\n",
    "}\n",
    "\n",
    "fr = \"AfD\"\n",
    "votes_plot = votes.loc[votes.fraction.eq(fr)]\n",
    "\n"
   ]
  },
  {
   "cell_type": "code",
   "execution_count": null,
   "metadata": {},
   "outputs": [],
   "source": [
    "get_fig_votes(votes_plot)"
   ]
  },
  {
   "cell_type": "code",
   "execution_count": null,
   "metadata": {},
   "outputs": [],
   "source": [
    "df_diss = (\n",
    "    # look only at dissenting votes:\n",
    "    votes_plot.loc[~votes_plot.on_party_line]\n",
    "    # order y-axis by degree of dissent per MdB, select relevant attributes:\n",
    "    .sort_values(\"n_dissent\", ascending=True)[[\"name\", \"label\", \"party_line\", \"vote\"]]\n",
    "    .reset_index(drop=True)\n",
    ")\n",
    "\n",
    "# \n",
    "label_freq = (\n",
    "    df_diss\n",
    "    .groupby(\"label\")\n",
    "    .size()\n",
    "    .to_frame(\"freq\")\n",
    "    .reset_index()\n",
    "    .sort_values([\"freq\", \"label\"], ascending=[False, True])\n",
    "    .reset_index(drop=True)\n",
    "    .reset_index()[[\"label\", \"freq\", \"index\"]]\n",
    "    .rename({\"index\": \"x\"}, axis=1)\n",
    ")\n",
    "df_diss = pd.merge(df_diss, label_freq, how=\"left\", on=\"label\")\n",
    "df_diss.sort_values(\"x\").head(20)\n",
    "\n",
    "fig = go.Figure()\n",
    "\n",
    "fig.add_trace(\n",
    "    go.Scatter(\n",
    "        x=df_diss.x,\n",
    "        y=df_diss.name,\n",
    "        mode=\"markers\",\n",
    "        marker=dict(\n",
    "            size=8,\n",
    "            symbol=\"square\",\n",
    "            color=\"rgba(0,0,128, 1)\"\n",
    "        ),\n",
    "        customdata=df_diss[[\"name\", \"label\", \"party_line\", \"vote\"]],\n",
    "        hovertemplate=\"<b>%{customdata[0]}</b> zur Abstimmung<br>„<i>%{customdata[1]}</i>“<br>Stimme: %{customdata[3]}<br>Fraktionsmehrheit: %{customdata[2]}.<extra></extra>\"\n",
    "    )\n",
    ")\n",
    "\n",
    "fig.update_layout(\n",
    "    width=800,\n",
    "    height=1500,\n",
    "    xaxis=dict(\n",
    "        showticklabels=False\n",
    "    ),\n",
    "    margin=dict(t=0, r=0, b=0, l=0)\n",
    ")\n",
    "fig.show()"
   ]
  }
 ],
 "metadata": {
  "kernelspec": {
   "display_name": ".venv",
   "language": "python",
   "name": "python3"
  },
  "language_info": {
   "codemirror_mode": {
    "name": "ipython",
    "version": 3
   },
   "file_extension": ".py",
   "mimetype": "text/x-python",
   "name": "python",
   "nbconvert_exporter": "python",
   "pygments_lexer": "ipython3",
   "version": "3.12.4"
  }
 },
 "nbformat": 4,
 "nbformat_minor": 2
}
