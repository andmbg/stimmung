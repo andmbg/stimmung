{
 "cells": [
  {
   "cell_type": "code",
   "execution_count": null,
   "metadata": {},
   "outputs": [],
   "source": [
    "import pandas as pd\n",
    "\n",
    "from src.data.models import Dataset"
   ]
  },
  {
   "cell_type": "code",
   "execution_count": null,
   "metadata": {},
   "outputs": [],
   "source": [
    "legislatures = Dataset(\n",
    "    name=\"legislatures\",\n",
    "    awde_endpoint=\"parliament-periods\",\n",
    "    awde_params={\n",
    "        \"label\": \"Bundestag 2021 - 2025\",\n",
    "        \"type\": \"legislature\",\n",
    "    },\n",
    ")\n",
    "legislatures.fetch()"
   ]
  },
  {
   "cell_type": "code",
   "execution_count": null,
   "metadata": {},
   "outputs": [],
   "source": [
    "legislatures.data"
   ]
  },
  {
   "cell_type": "code",
   "execution_count": null,
   "metadata": {},
   "outputs": [],
   "source": [
    "# Abstimmungen im aktuellen Bundestag:\n",
    "polls = Dataset(\n",
    "    name=\"polls\",\n",
    "    awde_endpoint=\"polls\",\n",
    "    awde_params={\"field_legislature[entity.id]\": 132}\n",
    ")\n",
    "\n",
    "def transform_polls(data: pd.DataFrame) -> pd.DataFrame:\n",
    "    df = data.copy()\n",
    "    df.rename(\n",
    "        {\n",
    "            \"field_accepted\": \"accepted\",\n",
    "            \"field_poll_date\": \"date\"\n",
    "        },\n",
    "        axis=1,\n",
    "        inplace=True\n",
    "    )\n",
    "    df[\"fid_legislatur\"] = df.field_legislature.apply(lambda x: x[\"id\"])\n",
    "    df[\"fid_topic\"] = df.field_topics.apply(lambda x: \",\".join( [str(i[\"id\"]) for i in x] ) if x is not None else None)\n",
    "    df = df[[\"id\", \"fid_legislatur\", \"fid_topic\", \"label\", \"date\", \"accepted\"]]\n",
    "\n",
    "    return df\n",
    "\n",
    "polls.transform_data = transform_polls"
   ]
  },
  {
   "cell_type": "code",
   "execution_count": null,
   "metadata": {},
   "outputs": [],
   "source": [
    "polls.data"
   ]
  },
  {
   "cell_type": "code",
   "execution_count": null,
   "metadata": {},
   "outputs": [],
   "source": [
    "poll_ids = polls.data.id\n",
    "\n",
    "all_votes = {}\n",
    "\n",
    "for id in poll_ids:\n",
    "    all_votes[id] = Dataset(name=f\"poll_{id}\", awde_endpoint=\"votes\", awde_params={\"poll\": id})\n",
    "    if all_votes[id].data is None:\n",
    "        print(id, end=\" \")\n",
    "        all_votes[id].fetch()\n",
    "        all_votes[id].save()"
   ]
  },
  {
   "cell_type": "code",
   "execution_count": null,
   "metadata": {},
   "outputs": [],
   "source": [
    "def transform_vote(data):\n",
    "    df = data.copy()\n",
    "\n",
    "    df[\"name\"] = df.mandate.apply(lambda d: d[\"label\"].split(\" (Bundestag\")[0] if d is not None else None)\n",
    "    df[\"fid_vote\"] = df.id\n",
    "    df[\"fid_poll\"] = df.poll.apply(lambda d: d[\"id\"])\n",
    "    df[\"fraction\"] = df.fraction.apply(lambda d: d[\"label\"].split(\" (Bundestag\")[0] if d is not None else None)\n",
    "\n",
    "\n",
    "    df = df[[\n",
    "        \"fid_poll\",\n",
    "        \"fid_vote\",\n",
    "        \"name\",\n",
    "        \"fraction\",\n",
    "        \"vote\",\n",
    "        \"reason_no_show\",\n",
    "        \"reason_no_show_other\",\n",
    "    ]]\n",
    "\n",
    "    return df\n",
    "\n",
    "for k, v in all_votes.items():\n",
    "    v.transform_data = transform_vote\n",
    "\n",
    "allvotes = pd.concat([x.data for x in all_votes.values()])"
   ]
  },
  {
   "cell_type": "code",
   "execution_count": null,
   "metadata": {},
   "outputs": [],
   "source": [
    "allvotes"
   ]
  },
  {
   "cell_type": "code",
   "execution_count": null,
   "metadata": {},
   "outputs": [],
   "source": [
    "polls.data"
   ]
  },
  {
   "cell_type": "code",
   "execution_count": null,
   "metadata": {},
   "outputs": [],
   "source": [
    "df = (\n",
    "    allvotes\n",
    "    .set_index(\"fid_poll\")\n",
    "    .join(polls.data.set_index(\"id\"))\n",
    "    .reset_index()\n",
    "    .rename({\"fid_poll\": \"poll_id\", \"fid_vote\": \"vote_id\"}, axis=1)\n",
    ")\n",
    "    # .set_index([\"poll_id\", \"fid_topic\", \"fid_legislatur\", \"label\", \"date\", \"accepted\"])\n",
    "\n",
    "df.date = pd.to_datetime(df.date)"
   ]
  },
  {
   "cell_type": "markdown",
   "metadata": {},
   "source": [
    "Hier die Fraktionen:"
   ]
  },
  {
   "cell_type": "code",
   "execution_count": null,
   "metadata": {},
   "outputs": [],
   "source": [
    "df.fraction.value_counts()"
   ]
  },
  {
   "cell_type": "markdown",
   "metadata": {},
   "source": [
    "Wir vereinfachen die Fraktionsnamen für das weitere Arbeiten:"
   ]
  },
  {
   "cell_type": "code",
   "execution_count": null,
   "metadata": {},
   "outputs": [],
   "source": [
    "df.fraction = df.fraction.replace({\n",
    "    \"SPD\": \"SPD\",\n",
    "    \"CDU/CSU\": \"CDU\",\n",
    "    \"BÜNDNIS 90/DIE GRÜNEN\": \"GRÜ\",\n",
    "    \"FDP\": \"FDP\",\n",
    "    \"AfD\": \"AfD\",\n",
    "    \"DIE LINKE.\": \"LIN\",\n",
    "    \"Die Linke. (Gruppe)\": \"LIN\",\n",
    "    \"BSW (Gruppe)\": \"BSW\",\n",
    "})"
   ]
  },
  {
   "cell_type": "markdown",
   "metadata": {},
   "source": [
    "Der Abstimmungs-Datensatz enthält bereits das Attribut \"accepted\" (*angenommen*, ja/nein).\n",
    "Wir fügen noch aus den Stimm-Daten hinzu, wie das Stimmenverhältnis war."
   ]
  },
  {
   "cell_type": "code",
   "execution_count": null,
   "metadata": {},
   "outputs": [],
   "source": [
    "p = df.groupby(\"poll_id\").aggregate(\n",
    "    quorum=(\"poll_id\", \"size\"),\n",
    "    sum_yes=(\"vote\", lambda x: (x == \"yes\").sum()),\n",
    "    sum_no=(\"vote\", lambda x: (x == \"no\").sum()),\n",
    "    sum_nil=(\"vote\", lambda x: x.isin([\"abstain\", \"no_show\"]).sum()),\n",
    ")"
   ]
  },
  {
   "cell_type": "code",
   "execution_count": null,
   "metadata": {},
   "outputs": [],
   "source": [
    "df = df.set_index(\"poll_id\").join(p)"
   ]
  },
  {
   "cell_type": "markdown",
   "metadata": {},
   "source": [
    "Es folgen die Stimmenzahlen aus den Fraktionen. Achtung: Abgeordnete der Linken sind zwischen dem 6. Dezember 2023 und 2. Februar 2024 als fraktionslos aufgeführt, danach entweder als \"Die Linke (Gruppe)\" oder \"BSW (Gruppe)\". Für die Frage nach dem Abstimmverhalten im Verhältnis zur eigenen Fraktion nehmen wir daher diese Phase aus dem Datensatz heraus. Das gilt dann auch für alle weiteren fraktionslosen."
   ]
  },
  {
   "cell_type": "code",
   "execution_count": null,
   "metadata": {},
   "outputs": [],
   "source": [
    "old_nrow = len(df)\n",
    "\n",
    "df = df.loc[df.fraction.ne(\"fraktionslos\")]\n",
    "\n",
    "(old_nrow - len(df), (old_nrow - len(df)) / old_nrow * 100)"
   ]
  },
  {
   "cell_type": "markdown",
   "metadata": {},
   "source": [
    "Wir verlieren dadurch 1145 Stimmen oder ca. 1%. Das ist zu verschmerzen."
   ]
  },
  {
   "cell_type": "code",
   "execution_count": null,
   "metadata": {},
   "outputs": [],
   "source": [
    "df.fraction.value_counts()"
   ]
  },
  {
   "cell_type": "code",
   "execution_count": null,
   "metadata": {},
   "outputs": [],
   "source": [
    "p = df.groupby([\"poll_id\", \"fraction\"]).aggregate(\n",
    "    yes=(\"vote\", lambda x: (x == \"yes\").sum()),\n",
    "    no=(\"vote\", lambda x: (x == \"no\").sum()),\n",
    "    nil=(\"vote\", lambda x: x.isin([\"abstain\", \"no_show\"]).sum()),\n",
    ")\n",
    "p = p.reset_index().pivot(index=\"poll_id\", columns=\"fraction\").reorder_levels([1,0], axis=1)\n",
    "\n",
    "p.columns = [\"_\".join(col) for col in p.columns]\n",
    "\n",
    "p = p.astype(pd.Int64Dtype())\n",
    "p"
   ]
  },
  {
   "cell_type": "code",
   "execution_count": null,
   "metadata": {},
   "outputs": [],
   "source": [
    "df = df.join(p)"
   ]
  },
  {
   "cell_type": "code",
   "execution_count": null,
   "metadata": {},
   "outputs": [],
   "source": [
    "df"
   ]
  }
 ],
 "metadata": {
  "kernelspec": {
   "display_name": ".venv",
   "language": "python",
   "name": "python3"
  },
  "language_info": {
   "codemirror_mode": {
    "name": "ipython",
    "version": 3
   },
   "file_extension": ".py",
   "mimetype": "text/x-python",
   "name": "python",
   "nbconvert_exporter": "python",
   "pygments_lexer": "ipython3",
   "version": "3.12.3"
  }
 },
 "nbformat": 4,
 "nbformat_minor": 2
}
